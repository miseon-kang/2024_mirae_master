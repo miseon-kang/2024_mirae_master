{
  "cells": [
    {
      "cell_type": "markdown",
      "metadata": {
        "id": "view-in-github",
        "colab_type": "text"
      },
      "source": [
        "<a href=\"https://colab.research.google.com/github/miseon-kang/2024_mirae_master/blob/main/2%EC%9D%BC%EC%B0%A8_%ED%83%90%EC%83%89%EC%A0%81%EB%8D%B0%EC%9D%B4%ED%84%B0%EB%B6%84%EC%84%9D_%EA%B5%AC%EC%94%A8%EB%A5%BC%EC%B0%BE%EC%95%84%EB%9D%BC_%EC%99%84%EC%84%B1.ipynb\" target=\"_parent\"><img src=\"https://colab.research.google.com/assets/colab-badge.svg\" alt=\"Open In Colab\"/></a>"
      ]
    },
    {
      "cell_type": "markdown",
      "id": "d019c073",
      "metadata": {
        "id": "d019c073"
      },
      "source": [
        "# 탐색적데이터 분석\n",
        "\n",
        "## 3. 공공 데이터 분석-구씨를 찾아라"
      ]
    },
    {
      "cell_type": "markdown",
      "id": "F16Xrgaki5CU",
      "metadata": {
        "id": "F16Xrgaki5CU"
      },
      "source": [
        "\n",
        "\n",
        "---\n",
        "\n"
      ]
    },
    {
      "cell_type": "markdown",
      "source": [
        "**[주의!] (코랩)한글 폰트 지정하는 방법**"
      ],
      "metadata": {
        "id": "QDzFgC0_GAaq"
      },
      "id": "QDzFgC0_GAaq"
    },
    {
      "cell_type": "code",
      "source": [
        "!sudo apt-get install -y fonts-nanum\n",
        "!sudo fc-cache -fv\n",
        "!rm ~/.cache/matplotlib -rf\n",
        "\n",
        "# 코랩에서 위 코드를 실행시킨 후  반드시 코랩 메뉴: \"런타임>런타임 다시 시작\" 합니다."
      ],
      "metadata": {
        "id": "XmKF9AkiGA2R"
      },
      "execution_count": null,
      "outputs": [],
      "id": "XmKF9AkiGA2R"
    },
    {
      "cell_type": "markdown",
      "source": [
        "\n",
        "\n",
        "---\n",
        "\n"
      ],
      "metadata": {
        "id": "DRMUztX5VgvV"
      },
      "id": "DRMUztX5VgvV"
    },
    {
      "cell_type": "markdown",
      "metadata": {
        "id": "sj1anstz8Mbs"
      },
      "source": [
        "### 1.데이터 다운로드하기"
      ],
      "id": "sj1anstz8Mbs"
    },
    {
      "cell_type": "markdown",
      "metadata": {
        "id": "uHBTf5u08Mbs"
      },
      "source": [
        "- 국가통계포털에서 성씨 데이터를 다운로드한다.\n",
        "- https://kosis.kr/index/index.do\n",
        "- csv파일 다운로드해서 사용\n",
        "- 성씨ㆍ본관별_인구__시군구_20241013003414.csv\n",
        "\n"
      ],
      "id": "uHBTf5u08Mbs"
    },
    {
      "cell_type": "markdown",
      "source": [
        "- 파일 업로드하기"
      ],
      "metadata": {
        "id": "MnvvO83xSNTc"
      },
      "id": "MnvvO83xSNTc"
    },
    {
      "cell_type": "code",
      "source": [
        "from google.colab import files\n",
        "uploaded = files.upload()"
      ],
      "metadata": {
        "collapsed": true,
        "id": "TsJAbMJNSQi6"
      },
      "execution_count": null,
      "outputs": [],
      "id": "TsJAbMJNSQi6"
    },
    {
      "cell_type": "code",
      "execution_count": null,
      "id": "KdYtMjEM3Ql4",
      "metadata": {
        "id": "KdYtMjEM3Ql4"
      },
      "outputs": [],
      "source": [
        "file = '성씨ㆍ본관별_인구__시군구_20241013003414.csv'"
      ]
    },
    {
      "cell_type": "markdown",
      "id": "3628eac9",
      "metadata": {
        "id": "3628eac9"
      },
      "source": [
        "## [퀴즈] 전국 성씨 순위구하기"
      ]
    },
    {
      "cell_type": "code",
      "execution_count": null,
      "id": "7fd3e71c",
      "metadata": {
        "id": "7fd3e71c"
      },
      "outputs": [],
      "source": [
        "import pandas as pd\n",
        "import matplotlib.pyplot as plt\n",
        "\n",
        "family_name = '조'\n",
        "\n",
        "df = pd.read_csv(file) #cp949: 윈도우OS 기본 인코딩 포맷\n",
        "df.columns = ['성씨', '지역', '인구']\n",
        "\n",
        "df = df.query(\" 지역 == '전국' and 성씨 != '계'\")\n",
        "\n",
        "# 성씨에서 한자 제외시키기 -----------\n",
        "tmp1, tmp2, tmp3 = list(), list(), list()\n",
        "for row in df.iterrows():\n",
        "    tmp1.append(row[1]['성씨'].split('(')[0])\n",
        "    tmp2.append(row[1]['지역'])\n",
        "    tmp3.append(row[1]['인구'])\n",
        "\n",
        "df_all = pd.DataFrame([ x for x in zip(tmp1,tmp2,tmp3)])\n",
        "df_all.columns = df.columns\n",
        "df_all\n",
        "#-------------------------------------\n",
        "\n",
        "# 한자를 다르게 쓰는 [성씨]를 [지역]별로 합계 구하기\n",
        "df_all_group = df_all.groupby('성씨').sum(numeric_only=False)\n",
        "\n",
        "# 지역별 합계 데이터를 '인구' 크기순으로 정렬하기\n",
        "df_all_group = df_all_group.sort_values(by = '인구', ascending = False)\n",
        "\n",
        "# 파일명 지정하여 저장하기\n",
        "savefile = 'familyname_ranking.csv'  # 파일명\n",
        "df_all_group.to_csv(savefile, encoding = 'cp949', mode = 'w') # 파일 저장하기\n",
        "\n",
        "df_all_group.head(10)"
      ]
    },
    {
      "cell_type": "markdown",
      "id": "0c52a67e",
      "metadata": {
        "id": "0c52a67e"
      },
      "source": [
        "----------------------------------"
      ]
    },
    {
      "cell_type": "markdown",
      "id": "7d944895",
      "metadata": {
        "id": "7d944895"
      },
      "source": [
        "## 구씨를 찾아라!"
      ]
    },
    {
      "cell_type": "markdown",
      "id": "90d314fc",
      "metadata": {
        "id": "90d314fc"
      },
      "source": [
        "### 3-1.파이썬으로 데이터 분석하는 순서\n",
        " [사전준비] 필요한 파이썬 라이브러리 설치하기\n",
        " 1. 데이터 준비하기 : 웹 사이트에서 공공데이터 다운로드하기\n",
        " 2. 데이터 불러오기 : 파이썬으로 데이터 읽어서 표로 나타내기\n",
        " 3. 데이터 전처리하기 : 필요한 데이터만 추출하기\n",
        " 4. 데이터 시각화하기 : 데이터 그래프로 나타내기\n",
        " 5. 데이터 저장하기 :  파일로 저장하기"
      ]
    },
    {
      "cell_type": "markdown",
      "id": "540ec9ab",
      "metadata": {
        "id": "540ec9ab"
      },
      "source": [
        "---"
      ]
    },
    {
      "cell_type": "markdown",
      "id": "456d3b0d",
      "metadata": {
        "id": "456d3b0d"
      },
      "source": [
        "### 2.데이터 불러오기 : 파이썬으로 데이터 읽어서 표로 나타내기\n",
        "파일명(성씨ㆍ본관별_인구__시군구_~.csv)에서 뒷부분 숫자는 다운로드된 날짜의 시간정보로 선생님과 다를 수 있으니 자신이 다운로드 받은 파일명을 사용하면 됩니다."
      ]
    },
    {
      "cell_type": "code",
      "execution_count": null,
      "id": "19431913",
      "metadata": {
        "id": "19431913"
      },
      "outputs": [],
      "source": [
        "import pandas as pd\n",
        "\n",
        "df = pd.read_csv(file) #cp949: 윈도우OS 기본 인코딩 포맷\n",
        "df.head(3)"
      ]
    },
    {
      "cell_type": "markdown",
      "id": "0643ef18",
      "metadata": {
        "id": "0643ef18"
      },
      "source": [
        "---"
      ]
    },
    {
      "cell_type": "markdown",
      "id": "e1882731",
      "metadata": {
        "id": "e1882731"
      },
      "source": [
        "### 3.데이터 전처리하기 : 필요한 데이터만 추출하기"
      ]
    },
    {
      "cell_type": "markdown",
      "id": "1da4dbd2",
      "metadata": {
        "id": "1da4dbd2"
      },
      "source": [
        "#### @컬럼이름 변경하기"
      ]
    },
    {
      "cell_type": "code",
      "execution_count": null,
      "id": "ffedd1ff",
      "metadata": {
        "id": "ffedd1ff"
      },
      "outputs": [],
      "source": [
        "# 현재 컬럼이름 출력하기\n",
        "df.columns"
      ]
    },
    {
      "cell_type": "code",
      "execution_count": null,
      "id": "67b65b12",
      "metadata": {
        "id": "67b65b12",
        "scrolled": true
      },
      "outputs": [],
      "source": [
        "# 컬럼이름 변경하기\n",
        "df.columns = ['성씨', '지역', '인구']\n",
        "df.columns"
      ]
    },
    {
      "cell_type": "markdown",
      "id": "06e8c397",
      "metadata": {
        "id": "06e8c397"
      },
      "source": [
        "#### @고유한 성씨만 출력하기"
      ]
    },
    {
      "cell_type": "code",
      "execution_count": null,
      "id": "e000a980",
      "metadata": {
        "id": "e000a980",
        "collapsed": true
      },
      "outputs": [],
      "source": [
        "# 고유한 성씨(한자포함) 출력하기\n",
        "set(df['성씨'])"
      ]
    },
    {
      "cell_type": "code",
      "execution_count": null,
      "id": "8165c6fa",
      "metadata": {
        "id": "8165c6fa"
      },
      "outputs": [],
      "source": [
        "# 고유한 성씨(한자포함) 총개수 출력하기\n",
        "len(set(df['성씨']))"
      ]
    },
    {
      "cell_type": "code",
      "execution_count": null,
      "id": "2abf27a2",
      "metadata": {
        "id": "2abf27a2"
      },
      "outputs": [],
      "source": [
        "# 한글 성씨만 출력하기 -> '가(賈)'--> 가  만 추출하기\n",
        "familyname = set(name.split('(')[0] for name in set(df['성씨']) )\n",
        "familyname\n",
        "\n",
        "# 고유한 한글 성씨 총개수 출력하기\n",
        "len(familyname)"
      ]
    },
    {
      "cell_type": "markdown",
      "id": "668c5e94",
      "metadata": {
        "id": "668c5e94"
      },
      "source": [
        "---------------------"
      ]
    },
    {
      "cell_type": "markdown",
      "id": "9539d711",
      "metadata": {
        "id": "9539d711"
      },
      "source": [
        "#### @[성씨]가  '구'인 데이터 추출하기"
      ]
    },
    {
      "cell_type": "code",
      "execution_count": null,
      "id": "79b6fe64",
      "metadata": {
        "id": "79b6fe64",
        "collapsed": true
      },
      "outputs": [],
      "source": [
        "# [성씨] 열에서 '구'가 포함된 데이터 출력하기\n",
        "df[df['성씨'].str.contains('구')]\n",
        "\n",
        "\n",
        "# [성씨] 열에서 '구'가 포함되고, [지역] 열에서 '전국' 제외하고 가져오기\n",
        "df_goo = df[df['성씨'].str.contains('구') & (df['지역'] != '전국')]\n",
        "df_goo"
      ]
    },
    {
      "cell_type": "markdown",
      "id": "YobB3gVLnSD0",
      "metadata": {
        "id": "YobB3gVLnSD0"
      },
      "source": [
        "### **[실습문제] 자신의 성씨 데이터 출력하기**\n"
      ]
    },
    {
      "cell_type": "code",
      "execution_count": null,
      "id": "FR5V5afvnrcF",
      "metadata": {
        "id": "FR5V5afvnrcF",
        "collapsed": true
      },
      "outputs": [],
      "source": [
        "# [성씨] 열에서 '구'가 포함되고, [지역] 열에서 '전국' 제외하고 가져오기\n",
        "df_my = df[df['성씨'].str.contains('조') & (df['지역'] != '전국')]\n",
        "df_my"
      ]
    },
    {
      "cell_type": "markdown",
      "id": "e7d5e515",
      "metadata": {
        "id": "e7d5e515"
      },
      "source": [
        "#### @데이터 그룹핑: ‘구’씨 성을 가진 데이터를 [지역]별로 [인구] 합계 출력하기"
      ]
    },
    {
      "cell_type": "code",
      "execution_count": null,
      "id": "ac4fe2c4",
      "metadata": {
        "id": "ac4fe2c4"
      },
      "outputs": [],
      "source": [
        "# 1.'구'씨 데이터를 [지역]별 합계 구하기\n",
        "# df_goo_group = df_goo.groupby('지역').sum()\n",
        "df_goo_group = df_goo.groupby('지역').sum(numeric_only=False)\n",
        "# df_goo_group\n",
        "\n",
        "\n",
        "# 2.지역별 합계 데이터를 '인구' 크기순으로 정렬하기\n",
        "df_goo_group = df_goo_group.sort_values(by = '인구', ascending = False)\n",
        "df_goo_group"
      ]
    },
    {
      "cell_type": "markdown",
      "id": "CDmOIhajoMX4",
      "metadata": {
        "id": "CDmOIhajoMX4"
      },
      "source": [
        "### **[실습문제] 자신의 한글 성씨 데이터를 [지역]별로 [인구] 합계 출력하기**"
      ]
    },
    {
      "cell_type": "code",
      "execution_count": null,
      "id": "Y1pFglPangB9",
      "metadata": {
        "id": "Y1pFglPangB9"
      },
      "outputs": [],
      "source": [
        "# 자신의 한글 성씨 데이터를 지역별 합계 데이터를 '인구' 크기순으로 정렬하기\n",
        "df_my_group = df_my.groupby('지역').sum(numeric_only=False)\n",
        "df_my_group = df_my_group.sort_values(by = '인구', ascending = False)\n",
        "df_my_group"
      ]
    },
    {
      "cell_type": "markdown",
      "id": "32c107d0",
      "metadata": {
        "id": "32c107d0"
      },
      "source": [
        "---------------------------"
      ]
    },
    {
      "cell_type": "markdown",
      "id": "588917f0",
      "metadata": {
        "id": "588917f0"
      },
      "source": [
        "### 4.데이터 시각화하기 : 데이터 그래프로 나타내기\n",
        "- 색상 참고 :  https://matplotlib.org/stable/gallery/color/named_colors.html"
      ]
    },
    {
      "cell_type": "markdown",
      "id": "4cda9851",
      "metadata": {
        "id": "4cda9851"
      },
      "source": [
        "#### @막대 그래프로 시각화하기"
      ]
    },
    {
      "cell_type": "code",
      "execution_count": null,
      "id": "66c95169",
      "metadata": {
        "id": "66c95169"
      },
      "outputs": [],
      "source": [
        "df_goo_group.columns"
      ]
    },
    {
      "cell_type": "code",
      "execution_count": null,
      "id": "62847130",
      "metadata": {
        "id": "62847130",
        "scrolled": true
      },
      "outputs": [],
      "source": [
        "import matplotlib.pyplot as plt\n",
        "\n",
        "# 코랩에서 한글 폰트 설치한 후 사용하기!!!\n",
        "# plt.rc('font', family='cmb10')                  # (코랩)한글 폰트\n",
        "plt.rc('font', family='NanumGothic')       # (코랩)한글 폰트\n",
        "# plt.rc('font', family='Malgun Gothic')          # (win)한글 폰트\n",
        "\n",
        "\n",
        "# 1.그래프 데이터 지정하기(X축, Y축)\n",
        "x = df_goo_group.index     # 지역\n",
        "y = df_goo_group['인구']   # 인구수\n",
        "\n",
        "# 2.그래프 그리기\n",
        "plt.bar(x, y)\n",
        "\n",
        "# 3. 그래프 꾸미기\n",
        "# plt.title('대한민국 \"구씨\"를 찾아라') # 그래프 제목\n",
        "plt.title('Find Familyname Goo!!! ') # 그래프 제목\n",
        "plt.xlabel('지역')                    # x축 이름\n",
        "plt.ylabel('인구수')                  # y축 이름\n",
        "plt.xticks(rotation = 45)             # X축 레이블 회전\n",
        "plt.show()                            # 그래프 출력하기"
      ]
    },
    {
      "cell_type": "markdown",
      "id": "32fd4248",
      "metadata": {
        "id": "32fd4248"
      },
      "source": [
        "#### @그래프 꾸미기"
      ]
    },
    {
      "cell_type": "code",
      "execution_count": null,
      "id": "6cc40535",
      "metadata": {
        "id": "6cc40535"
      },
      "outputs": [],
      "source": [
        "import matplotlib.pyplot as plt\n",
        "\n",
        "# 1.그래프 데이터 지정하기(X축, Y축)\n",
        "x = df_goo_group.index     # 지역\n",
        "y = df_goo_group['인구']   # 인구수\n",
        "\n",
        "# 2.그래프 그리기\n",
        "plt.figure(figsize = (15, 5), facecolor = 'lavender') # 그래프 크기와 색상\n",
        "plt.bar(x, y, color = 'mediumpurple')  # 막대 그래프 그리기\n",
        "\n",
        "# 3. 그래프 꾸미기\n",
        "plt.title('\"구씨를 찾아라\"', pad = 20,                # 그래프 제목\n",
        "          fontdict = {'size':30, 'color':'black', 'weight':'bold'})\n",
        "plt.xlabel('지역', fontdict = {'size': 20, 'color': 'dimgray', 'weight': 'bold'})\n",
        "plt.ylabel('인구(명)', fontdict = {'size': 20, 'color': 'dimgray', 'weight': 'bold'}, labelpad = 20)\n",
        "plt.xticks(rotation = 45)                   # X축 레이블 회전\n",
        "plt.grid(True, axis = 'y', alpha = 0.5)    # 그래프에 그리드 표현하기\n",
        "\n",
        "plt.show() # 그래프 그리기"
      ]
    },
    {
      "cell_type": "markdown",
      "id": "e5aa99de",
      "metadata": {
        "id": "e5aa99de"
      },
      "source": [
        "#### @선 그래프로 시각화하기"
      ]
    },
    {
      "cell_type": "code",
      "execution_count": null,
      "id": "dcebf6b5",
      "metadata": {
        "id": "dcebf6b5",
        "scrolled": true
      },
      "outputs": [],
      "source": [
        "# 1.그래프 데이터 지정하기(X축, Y축)\n",
        "x = df_goo_group.index     # 지역\n",
        "y = df_goo_group['인구']   # 인구수\n",
        "\n",
        "# 2.그래프 그리기 (선그래프 그리기)\n",
        "plt.figure(figsize = (15, 5), facecolor = 'lavender') # 그래프 크기와 색상\n",
        "plt.plot(x, y, color='mediumpurple', marker='o', linestyle='solid',\n",
        "         linewidth=2, markersize=8, markerfacecolor='red')\n",
        "\n",
        "# 3. 그래프 꾸미기\n",
        "plt.title('\"구씨를 찾아라\"', pad = 20,                # 그래프 제목\n",
        "          fontdict = {'size':30, 'color':'black', 'weight':'bold'})\n",
        "plt.xlabel('지역', fontdict = {'size': 20, 'color': 'dimgray', 'weight': 'bold'})\n",
        "plt.ylabel('인구(명)', fontdict = {'size': 20, 'color': 'dimgray', 'weight': 'bold'}, labelpad = 20)\n",
        "plt.xticks(rotation = 45)                   # X축 레이블 회전\n",
        "plt.grid(True, axis = 'y', alpha = 0.5)    # 그래프에 그리드 표현하기\n",
        "\n",
        "plt.show() # 그래프 그리기"
      ]
    },
    {
      "cell_type": "markdown",
      "id": "1182f9ba",
      "metadata": {
        "id": "1182f9ba"
      },
      "source": [
        "#### @혼합 그래프"
      ]
    },
    {
      "cell_type": "code",
      "execution_count": null,
      "id": "eb8a0ccb",
      "metadata": {
        "id": "eb8a0ccb",
        "scrolled": true
      },
      "outputs": [],
      "source": [
        "import matplotlib.pyplot as plt\n",
        "\n",
        "\n",
        "# 1.그래프 데이터 지정하기(X축, Y축)\n",
        "x = df_goo_group.index     # 지역\n",
        "y = df_goo_group['인구']   # 인구수\n",
        "\n",
        "# 2.그래프 그리기\n",
        "plt.figure(figsize = (15, 5), facecolor = 'lavender') # 그래프 크기와 색상\n",
        "plt.bar(x, y, color = 'mediumpurple')          # 막대 그래프\n",
        "plt.plot(x, y, color='royalblue', marker='o',  # 선 그래프\n",
        "         linewidth=2, markerfacecolor='red')\n",
        "\n",
        "# 3.그래프 꾸미기\n",
        "plt.title('\"구씨를 찾아라\"', pad = 20,                # 그래프 제목\n",
        "          fontdict = {'size':30, 'color':'black', 'weight':'bold'})\n",
        "plt.xlabel('지역', fontdict = {'size': 20, 'color': 'dimgray', 'weight': 'bold'})\n",
        "plt.ylabel('인구(명)', fontdict = {'size': 20, 'color': 'dimgray', 'weight': 'bold'}, labelpad = 20)\n",
        "plt.xticks(rotation = 45)                 # X축 레이블 회전\n",
        "plt.grid(True, axis = 'y', alpha = 0.5)  # 그래프에 그리드 표현하기\n",
        "\n",
        "plt.show() # 그래프 그리기"
      ]
    },
    {
      "cell_type": "markdown",
      "id": "b6e3cb73",
      "metadata": {
        "id": "b6e3cb73"
      },
      "source": [
        "### 5. 데이터 저장하기 : 데이터 파일로 저장하기"
      ]
    },
    {
      "cell_type": "code",
      "execution_count": null,
      "id": "43eb89da",
      "metadata": {
        "id": "43eb89da"
      },
      "outputs": [],
      "source": [
        "# 파일명 지정하여 저장하기\n",
        "savefile = './familyname_goo.csv'  # 파일명\n",
        "df_goo_group.to_csv(savefile, encoding = 'cp949', mode = 'w') # 파일 저장하기"
      ]
    },
    {
      "cell_type": "markdown",
      "id": "44d19d55",
      "metadata": {
        "id": "44d19d55"
      },
      "source": [
        "-----------------------------------------"
      ]
    },
    {
      "cell_type": "markdown",
      "id": "6ac7b687",
      "metadata": {
        "id": "6ac7b687"
      },
      "source": [
        "### **[실습문제] 워드클라우드로 시각화하기**"
      ]
    },
    {
      "cell_type": "code",
      "execution_count": null,
      "id": "528e2c05",
      "metadata": {
        "id": "528e2c05"
      },
      "outputs": [],
      "source": [
        "# 라이브러리 설치하기\n",
        "!pip install wordcloud"
      ]
    },
    {
      "cell_type": "code",
      "execution_count": null,
      "id": "c2cc771b",
      "metadata": {
        "id": "c2cc771b",
        "scrolled": true
      },
      "outputs": [],
      "source": [
        "from wordcloud import WordCloud\n",
        "import matplotlib.pyplot as plt\n",
        "\n",
        "# 1. (win)폰트 지정: 자신의 컴퓨터 환경에 맞는 한글 폰트 경로\n",
        "# font_path = 'malgun'  # C:/Windows/Fonts/\n",
        "# font_path = 'HMFMOLD' # C:/Windows/Fonts/HMKMMAG.TTF     #HMFMOLD.TTF\n",
        "\n",
        "# 1. (코랩)폰트 지정: 자신의 컴퓨터 환경에 맞는 한글 폰트 경로\n",
        "font_path = '/usr/share/fonts/truetype/nanum/NanumGothicBold.ttf'\n",
        "\n",
        "# 2.전처리된 데이터 지정하기\n",
        "names = df_goo_group.index     # 지역\n",
        "counts = df_goo_group['인구']  # 인구수\n",
        "data = dict(zip(names, counts)) # 워드클라우드는 딕셔너리 형태로 만들기\n",
        "\n",
        "# 3.워드클라우드 그래프로 시각화하기\n",
        "wc = WordCloud(width = 1000, height = 600,\n",
        "               background_color=\"black\", font_path=font_path)\n",
        "plt.imshow(wc.generate_from_frequencies(data))\n",
        "plt.axis(\"off\")\n",
        "plt.show()\n",
        "\n",
        "# 4.파일로 저장하기\n",
        "wc.to_file('./구씨_워드클라우드.png')"
      ]
    },
    {
      "cell_type": "markdown",
      "id": "xjIQRtwpxuCI",
      "metadata": {
        "id": "xjIQRtwpxuCI"
      },
      "source": [
        "\n",
        "\n",
        "---\n",
        "\n"
      ]
    },
    {
      "cell_type": "markdown",
      "id": "39d915d4",
      "metadata": {
        "id": "39d915d4"
      },
      "source": [
        "### **[실습문제]**\n",
        "자신의 성씨 데이터 지역별로 그룹핑해서 그래프 그리고 데이터 파일을 저장하기 나타내기"
      ]
    },
    {
      "cell_type": "code",
      "execution_count": null,
      "id": "f11651f0",
      "metadata": {
        "id": "f11651f0",
        "scrolled": true
      },
      "outputs": [],
      "source": [
        "import pandas as pd\n",
        "import matplotlib.pyplot as plt\n",
        "\n",
        "family_name = '조'\n",
        "\n",
        "df = pd.read_csv(file) #cp949: 윈도우OS 기본 인코딩 포맷\n",
        "\n",
        "# 컬럼 이름 변경하기\n",
        "df.columns = ['성씨', '지역', '인구']\n",
        "\n",
        "\n",
        "#------------------------\n",
        "# 자신의 성씨 데이터 지역별로 합계구하기\n",
        "#------------------------\n",
        "# '성씨'열에서 '조'가 포함되고, '지역'열에서 '전국' 제외하여 가져오기\n",
        "df_my = df[df['성씨'].str.contains(family_name) & (df['지역'] != '전국')]\n",
        "\n",
        "# 한자를 다르게 쓰는 '구'씨를 '지역'별로 합계 구하기\n",
        "df_my_group = df_my.groupby('지역').sum(numeric_only=False)\n",
        "\n",
        "# 지역별 합계 데이터를 '인구' 크기순으로 정렬하기\n",
        "df_my_group = df_my_group.sort_values(by = '인구', ascending = False)\n",
        "\n",
        "\n",
        "#------------------------\n",
        "# 그래프 그리기\n",
        "#------------------------\n",
        "x = df_my_group.index    # 지역\n",
        "y = df_my_group['인구']\n",
        "\n",
        "plt.figure(figsize = (15, 5), facecolor = 'lavender')\n",
        "plt.bar(x, y, color = 'navy') # 막대 그래프\n",
        "plt.plot(x, y, color='mediumpurple', marker='o', linewidth=2, markerfacecolor='red') # 선 그래프\n",
        "\n",
        "plt.title(f'\"{family_name}씨를 찾아라\"', fontdict = {'size': 30, 'color': 'black', 'weight': 'bold'}, pad = 20)\n",
        "\n",
        "plt.xlabel('지역', fontdict = {'size': 20, 'color': 'dimgray', 'weight': 'bold'})\n",
        "plt.ylabel('인구(명)', fontdict = {'size': 20, 'color': 'dimgray', 'weight': 'bold'}, labelpad = 20)\n",
        "plt.xticks(rotation = 45)\n",
        "plt.grid(True, axis = 'y', alpha = 0.5)\n",
        "\n",
        "plt.show()\n",
        "\n",
        "#------------------------\n",
        "# 파일명 지정하여 저장하기\n",
        "#------------------------\n",
        "file = 'my_familyname.csv'  # 파일명\n",
        "df_my_group.to_csv(file, encoding = 'cp949', mode = 'w') # 파일 저장하기\n",
        "\n",
        "\n",
        "#------------------------\n",
        "# 워드클라우드 지정하여 저장하기\n",
        "#------------------------\n",
        "from wordcloud import WordCloud\n",
        "\n",
        "# 1. (win)폰트 지정: 자신의 컴퓨터 환경에 맞는 한글 폰트 경로\n",
        "# font_path = 'malgun'  # C:/Windows/Fonts/\n",
        "# font_path = 'HMKMMAG' # C:/Windows/Fonts/HMKMMAG.TTF\n",
        "\n",
        "# 1. (코랩)폰트 지정: 자신의 컴퓨터 환경에 맞는 한글 폰트 경로\n",
        "font_path = '/usr/share/fonts/truetype/nanum/NanumGothicBold.ttf'\n",
        "\n",
        "# 2.전처리된 데이터 지정하기\n",
        "names = df_my_group.index     # 지역\n",
        "counts = df_my_group['인구']  # 인구수\n",
        "data = dict(zip(names, counts)) # 워드클라우드는 딕셔너리 형태로 만들기\n",
        "\n",
        "# 3.워드클라우드 그래프로 시각화하기\n",
        "wc = WordCloud(width = 1000, height = 600,\n",
        "               background_color=\"black\", font_path=font_path)\n",
        "plt.imshow(wc.generate_from_frequencies(data))\n",
        "plt.axis(\"off\")\n",
        "plt.show()\n",
        "\n",
        "# 4.파일로 저장하기\n",
        "wc.to_file('./조씨_워드클라우드.png')"
      ]
    },
    {
      "cell_type": "markdown",
      "id": "6c48f52e",
      "metadata": {
        "id": "6c48f52e"
      },
      "source": [
        "----------------------------------"
      ]
    },
    {
      "cell_type": "markdown",
      "id": "fede246a",
      "metadata": {
        "id": "fede246a"
      },
      "source": [
        "THE END"
      ]
    },
    {
      "cell_type": "markdown",
      "id": "c40d9ee1",
      "metadata": {
        "id": "c40d9ee1"
      },
      "source": [
        "**#### @투명한 이미지(알파값이 적용된)에 워드 클라우드 나타내기**\n",
        "마스크 이미지 파일이 필요하다."
      ]
    },
    {
      "cell_type": "code",
      "execution_count": null,
      "id": "ec4acf88",
      "metadata": {
        "id": "ec4acf88"
      },
      "outputs": [],
      "source": [
        "from wordcloud import WordCloud\n",
        "import matplotlib.pyplot as plt\n",
        "import cv2\n",
        "import numpy as np\n",
        "\n",
        "# 자신의 컴퓨터 환경에 맞는 한글 폰트 경로를 설정(window에서)\n",
        "font_path = '/usr/share/fonts/truetype/nanum/NanumBarunGothic.ttf'  # 코랩에서\n",
        "# font_path = 'malgun'  # C:/Windows/Fonts/\n",
        "# font_path = 'H2HDRM' # C:/Windows/Fonts/H2HDRM.TTF\n",
        "\n",
        "\n",
        "# (토큰명, 빈도수) 딕셔너리 타입으로 변환\n",
        "names = df_my_group.index.tolist()\n",
        "counts = df_my_group['인구']\n",
        "data = dict(zip(names, counts))\n",
        "\n",
        "\n",
        "# 워드클라우드로 그래프로 시각화\n",
        "img = cv2.imread('./apple.png')\n",
        "img_array = np.array(img)\n",
        "wc = WordCloud(background_color=\"white\",\n",
        "               font_path=font_path, max_font_size=250, mask=img_array)\n",
        "plt.imshow(wc.generate_from_frequencies(data))\n",
        "plt.axis(\"off\")\n",
        "plt.show()\n",
        "\n",
        "# 파일로 저장하기\n",
        "wc.to_file('./사과모양_워드클라우드.png')"
      ]
    }
  ],
  "metadata": {
    "colab": {
      "provenance": [],
      "include_colab_link": true
    },
    "kernelspec": {
      "display_name": "Python 3 (ipykernel)",
      "language": "python",
      "name": "python3"
    },
    "language_info": {
      "codemirror_mode": {
        "name": "ipython",
        "version": 3
      },
      "file_extension": ".py",
      "mimetype": "text/x-python",
      "name": "python",
      "nbconvert_exporter": "python",
      "pygments_lexer": "ipython3",
      "version": "3.10.9"
    },
    "vscode": {
      "interpreter": {
        "hash": "b41e41bff03a930185ac2cbea60ce521f7c8c2f5401ceb5c30214081f77ab4f5"
      }
    }
  },
  "nbformat": 4,
  "nbformat_minor": 5
}