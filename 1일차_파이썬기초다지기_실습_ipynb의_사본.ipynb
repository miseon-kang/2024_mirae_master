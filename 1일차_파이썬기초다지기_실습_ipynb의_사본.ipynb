{
  "cells": [
    {
      "cell_type": "markdown",
      "metadata": {
        "id": "view-in-github",
        "colab_type": "text"
      },
      "source": [
        "<a href=\"https://colab.research.google.com/github/miseon-kang/2024_mirae_master/blob/main/1%EC%9D%BC%EC%B0%A8_%ED%8C%8C%EC%9D%B4%EC%8D%AC%EA%B8%B0%EC%B4%88%EB%8B%A4%EC%A7%80%EA%B8%B0_%EC%8B%A4%EC%8A%B5_ipynb%EC%9D%98_%EC%82%AC%EB%B3%B8.ipynb\" target=\"_parent\"><img src=\"https://colab.research.google.com/assets/colab-badge.svg\" alt=\"Open In Colab\"/></a>"
      ]
    },
    {
      "cell_type": "markdown",
      "metadata": {
        "id": "zRxHpy-28GGG"
      },
      "source": [
        "# 1일차-파이썬 기초 다지기"
      ]
    },
    {
      "cell_type": "markdown",
      "metadata": {
        "id": "VRVM91mPB34V"
      },
      "source": [
        "## 1.파이썬 이해하기"
      ]
    },
    {
      "cell_type": "markdown",
      "metadata": {
        "id": "hOwZhukd8GGK"
      },
      "source": [
        "### 파이썬 버전 확인"
      ]
    },
    {
      "cell_type": "code",
      "source": [
        "!python --version"
      ],
      "metadata": {
        "id": "WCJ5nbOTB5ZF",
        "colab": {
          "base_uri": "https://localhost:8080/"
        },
        "outputId": "b365e688-8105-4fcc-d5a5-2aca2ecc229d"
      },
      "execution_count": null,
      "outputs": [
        {
          "output_type": "stream",
          "name": "stdout",
          "text": [
            "Python 3.10.12\n"
          ]
        }
      ]
    },
    {
      "cell_type": "code",
      "source": [
        "import sys\n",
        "sys.version"
      ],
      "metadata": {
        "colab": {
          "base_uri": "https://localhost:8080/",
          "height": 36
        },
        "id": "6P6Et327xxTn",
        "outputId": "bc04b37c-93b7-4209-db9e-155d01f5a440"
      },
      "execution_count": null,
      "outputs": [
        {
          "output_type": "execute_result",
          "data": {
            "text/plain": [
              "'3.10.12 (main, Sep 11 2024, 15:47:36) [GCC 11.4.0]'"
            ],
            "application/vnd.google.colaboratory.intrinsic+json": {
              "type": "string"
            }
          },
          "metadata": {},
          "execution_count": 3
        }
      ]
    },
    {
      "cell_type": "markdown",
      "metadata": {
        "id": "HAFtSTG28GGL"
      },
      "source": [
        "### 파이썬 설치 위치 확인"
      ]
    },
    {
      "cell_type": "code",
      "execution_count": null,
      "metadata": {
        "id": "46cMOIHW8GGM",
        "colab": {
          "base_uri": "https://localhost:8080/"
        },
        "outputId": "49eb3099-81e1-48f0-db3b-77b9681d3ecd"
      },
      "outputs": [
        {
          "output_type": "execute_result",
          "data": {
            "text/plain": [
              "['/content',\n",
              " '/env/python',\n",
              " '/usr/lib/python310.zip',\n",
              " '/usr/lib/python3.10',\n",
              " '/usr/lib/python3.10/lib-dynload',\n",
              " '',\n",
              " '/usr/local/lib/python3.10/dist-packages',\n",
              " '/usr/lib/python3/dist-packages',\n",
              " '/usr/local/lib/python3.10/dist-packages/IPython/extensions',\n",
              " '/usr/local/lib/python3.10/dist-packages/setuptools/_vendor',\n",
              " '/root/.ipython']"
            ]
          },
          "metadata": {},
          "execution_count": 5
        }
      ],
      "source": [
        "sys.executable\n",
        "sys.path"
      ]
    },
    {
      "cell_type": "markdown",
      "metadata": {
        "id": "BVZeLUFeILol"
      },
      "source": [
        "### [실습] 파이썬 정보 확인하기\n",
        "\n",
        "\n",
        "1.   설치된 파이썬 버전 출력하기\n",
        "2.   파이썬 실행파일 위치 출력하기\n",
        "\n"
      ]
    },
    {
      "cell_type": "code",
      "execution_count": null,
      "metadata": {
        "id": "wYTlynjPIaj4"
      },
      "outputs": [],
      "source": [
        "import sys\n",
        "\n",
        "print(f'설치된 파이썬 버전: { }')\n",
        "print(f'파이썬 실행파일 위치: { }')"
      ]
    },
    {
      "cell_type": "markdown",
      "metadata": {
        "id": "KE15Fd6jCbUK"
      },
      "source": [
        "### 라이브러리 설치하기"
      ]
    },
    {
      "cell_type": "code",
      "execution_count": null,
      "metadata": {
        "id": "PlG-i1fYCbdI",
        "colab": {
          "base_uri": "https://localhost:8080/"
        },
        "outputId": "f24375ae-c0f4-484e-fe13-59d9fb2b55d8"
      },
      "outputs": [
        {
          "output_type": "stream",
          "name": "stdout",
          "text": [
            "Requirement already satisfied: missingno in /usr/local/lib/python3.10/dist-packages (0.5.2)\n",
            "Requirement already satisfied: numpy in /usr/local/lib/python3.10/dist-packages (from missingno) (1.26.4)\n",
            "Requirement already satisfied: matplotlib in /usr/local/lib/python3.10/dist-packages (from missingno) (3.7.1)\n",
            "Requirement already satisfied: scipy in /usr/local/lib/python3.10/dist-packages (from missingno) (1.13.1)\n",
            "Requirement already satisfied: seaborn in /usr/local/lib/python3.10/dist-packages (from missingno) (0.13.2)\n",
            "Requirement already satisfied: contourpy>=1.0.1 in /usr/local/lib/python3.10/dist-packages (from matplotlib->missingno) (1.3.0)\n",
            "Requirement already satisfied: cycler>=0.10 in /usr/local/lib/python3.10/dist-packages (from matplotlib->missingno) (0.12.1)\n",
            "Requirement already satisfied: fonttools>=4.22.0 in /usr/local/lib/python3.10/dist-packages (from matplotlib->missingno) (4.54.1)\n",
            "Requirement already satisfied: kiwisolver>=1.0.1 in /usr/local/lib/python3.10/dist-packages (from matplotlib->missingno) (1.4.7)\n",
            "Requirement already satisfied: packaging>=20.0 in /usr/local/lib/python3.10/dist-packages (from matplotlib->missingno) (24.1)\n",
            "Requirement already satisfied: pillow>=6.2.0 in /usr/local/lib/python3.10/dist-packages (from matplotlib->missingno) (10.4.0)\n",
            "Requirement already satisfied: pyparsing>=2.3.1 in /usr/local/lib/python3.10/dist-packages (from matplotlib->missingno) (3.1.4)\n",
            "Requirement already satisfied: python-dateutil>=2.7 in /usr/local/lib/python3.10/dist-packages (from matplotlib->missingno) (2.8.2)\n",
            "Requirement already satisfied: pandas>=1.2 in /usr/local/lib/python3.10/dist-packages (from seaborn->missingno) (2.2.2)\n",
            "Requirement already satisfied: pytz>=2020.1 in /usr/local/lib/python3.10/dist-packages (from pandas>=1.2->seaborn->missingno) (2024.2)\n",
            "Requirement already satisfied: tzdata>=2022.7 in /usr/local/lib/python3.10/dist-packages (from pandas>=1.2->seaborn->missingno) (2024.2)\n",
            "Requirement already satisfied: six>=1.5 in /usr/local/lib/python3.10/dist-packages (from python-dateutil>=2.7->matplotlib->missingno) (1.16.0)\n"
          ]
        }
      ],
      "source": [
        "!pip install missingno"
      ]
    },
    {
      "cell_type": "markdown",
      "source": [
        "### 라이브러리 삭제하기"
      ],
      "metadata": {
        "id": "3peceTCrCuXS"
      }
    },
    {
      "cell_type": "code",
      "execution_count": null,
      "metadata": {
        "id": "CO9pIWvq8GGN",
        "scrolled": true,
        "colab": {
          "base_uri": "https://localhost:8080/"
        },
        "outputId": "e62822c0-4b2c-4f06-d522-0f3cb6b5bd16"
      },
      "outputs": [
        {
          "output_type": "stream",
          "name": "stdout",
          "text": [
            "Found existing installation: missingno 0.5.2\n",
            "Uninstalling missingno-0.5.2:\n",
            "  Would remove:\n",
            "    /usr/local/lib/python3.10/dist-packages/missingno-0.5.2.dist-info/*\n",
            "    /usr/local/lib/python3.10/dist-packages/missingno/*\n",
            "Proceed (Y/n)? Y\n",
            "  Successfully uninstalled missingno-0.5.2\n"
          ]
        }
      ],
      "source": [
        "!pip uninstall missingno"
      ]
    },
    {
      "cell_type": "markdown",
      "metadata": {
        "id": "5KtJAiS08GGO"
      },
      "source": [
        "### 설치된 라이브러리 확인(전체)"
      ]
    },
    {
      "cell_type": "code",
      "execution_count": null,
      "metadata": {
        "id": "0bsTdq6y8GGO",
        "colab": {
          "base_uri": "https://localhost:8080/"
        },
        "collapsed": true,
        "outputId": "23663848-a245-40f5-b994-e1e415b43d3a"
      },
      "outputs": [
        {
          "output_type": "stream",
          "name": "stdout",
          "text": [
            "Package                            Version\n",
            "---------------------------------- -------------------\n",
            "absl-py                            1.4.0\n",
            "accelerate                         0.34.2\n",
            "aiohappyeyeballs                   2.4.3\n",
            "aiohttp                            3.10.9\n",
            "aiosignal                          1.3.1\n",
            "alabaster                          0.7.16\n",
            "albucore                           0.0.16\n",
            "albumentations                     1.4.15\n",
            "altair                             4.2.2\n",
            "annotated-types                    0.7.0\n",
            "anyio                              3.7.1\n",
            "argon2-cffi                        23.1.0\n",
            "argon2-cffi-bindings               21.2.0\n",
            "array_record                       0.5.1\n",
            "arviz                              0.19.0\n",
            "astropy                            6.1.4\n",
            "astropy-iers-data                  0.2024.10.7.0.32.46\n",
            "astunparse                         1.6.3\n",
            "async-timeout                      4.0.3\n",
            "atpublic                           4.1.0\n",
            "attrs                              24.2.0\n",
            "audioread                          3.0.1\n",
            "autograd                           1.7.0\n",
            "babel                              2.16.0\n",
            "backcall                           0.2.0\n",
            "beautifulsoup4                     4.12.3\n",
            "bigframes                          1.21.0\n",
            "bigquery-magics                    0.4.0\n",
            "bleach                             6.1.0\n",
            "blinker                            1.4\n",
            "blis                               0.7.11\n",
            "blosc2                             2.0.0\n",
            "bokeh                              3.4.3\n",
            "Bottleneck                         1.4.0\n",
            "bqplot                             0.12.43\n",
            "branca                             0.8.0\n",
            "build                              1.2.2.post1\n",
            "CacheControl                       0.14.0\n",
            "cachetools                         5.5.0\n",
            "catalogue                          2.0.10\n",
            "certifi                            2024.8.30\n",
            "cffi                               1.17.1\n",
            "chardet                            5.2.0\n",
            "charset-normalizer                 3.3.2\n",
            "chex                               0.1.87\n",
            "clarabel                           0.9.0\n",
            "click                              8.1.7\n",
            "cloudpathlib                       0.19.0\n",
            "cloudpickle                        2.2.1\n",
            "cmake                              3.30.4\n",
            "cmdstanpy                          1.2.4\n",
            "colorcet                           3.1.0\n",
            "colorlover                         0.3.0\n",
            "colour                             0.1.5\n",
            "community                          1.0.0b1\n",
            "confection                         0.1.5\n",
            "cons                               0.4.6\n",
            "contextlib2                        21.6.0\n",
            "contourpy                          1.3.0\n",
            "cryptography                       43.0.1\n",
            "cuda-python                        12.2.1\n",
            "cudf-cu12                          24.6.1\n",
            "cufflinks                          0.17.3\n",
            "cupy-cuda12x                       12.2.0\n",
            "cvxopt                             1.3.2\n",
            "cvxpy                              1.5.3\n",
            "cycler                             0.12.1\n",
            "cymem                              2.0.8\n",
            "Cython                             3.0.11\n",
            "dask                               2024.8.0\n",
            "datascience                        0.17.6\n",
            "db-dtypes                          1.3.0\n",
            "dbus-python                        1.2.18\n",
            "debugpy                            1.6.6\n",
            "decorator                          4.4.2\n",
            "defusedxml                         0.7.1\n",
            "Deprecated                         1.2.14\n",
            "distributed                        2024.8.0\n",
            "distro                             1.7.0\n",
            "dlib                               19.24.2\n",
            "dm-tree                            0.1.8\n",
            "docstring_parser                   0.16\n",
            "docutils                           0.18.1\n",
            "dopamine_rl                        4.0.9\n",
            "duckdb                             1.1.1\n",
            "earthengine-api                    1.0.0\n",
            "easydict                           1.13\n",
            "ecos                               2.0.14\n",
            "editdistance                       0.8.1\n",
            "eerepr                             0.0.4\n",
            "einops                             0.8.0\n",
            "en-core-web-sm                     3.7.1\n",
            "entrypoints                        0.4\n",
            "et-xmlfile                         1.1.0\n",
            "etils                              1.9.4\n",
            "etuples                            0.3.9\n",
            "eval_type_backport                 0.2.0\n",
            "exceptiongroup                     1.2.2\n",
            "fastai                             2.7.17\n",
            "fastcore                           1.7.11\n",
            "fastdownload                       0.0.7\n",
            "fastjsonschema                     2.20.0\n",
            "fastprogress                       1.0.3\n",
            "fastrlock                          0.8.2\n",
            "filelock                           3.16.1\n",
            "firebase-admin                     6.5.0\n",
            "Flask                              2.2.5\n",
            "flatbuffers                        24.3.25\n",
            "flax                               0.8.5\n",
            "folium                             0.17.0\n",
            "fonttools                          4.54.1\n",
            "frozendict                         2.4.5\n",
            "frozenlist                         1.4.1\n",
            "fsspec                             2024.6.1\n",
            "future                             1.0.0\n",
            "gast                               0.6.0\n",
            "gcsfs                              2024.6.1\n",
            "GDAL                               3.6.4\n",
            "gdown                              5.2.0\n",
            "geemap                             0.34.5\n",
            "gensim                             4.3.3\n",
            "geocoder                           1.38.1\n",
            "geographiclib                      2.0\n",
            "geopandas                          1.0.1\n",
            "geopy                              2.4.1\n",
            "gin-config                         0.5.0\n",
            "glob2                              0.7\n",
            "google                             2.0.3\n",
            "google-ai-generativelanguage       0.6.6\n",
            "google-api-core                    2.19.2\n",
            "google-api-python-client           2.137.0\n",
            "google-auth                        2.27.0\n",
            "google-auth-httplib2               0.2.0\n",
            "google-auth-oauthlib               1.2.1\n",
            "google-cloud-aiplatform            1.69.0\n",
            "google-cloud-bigquery              3.25.0\n",
            "google-cloud-bigquery-connection   1.15.5\n",
            "google-cloud-bigquery-storage      2.26.0\n",
            "google-cloud-bigtable              2.26.0\n",
            "google-cloud-core                  2.4.1\n",
            "google-cloud-datastore             2.19.0\n",
            "google-cloud-firestore             2.16.1\n",
            "google-cloud-functions             1.16.5\n",
            "google-cloud-iam                   2.15.2\n",
            "google-cloud-language              2.13.4\n",
            "google-cloud-pubsub                2.25.2\n",
            "google-cloud-resource-manager      1.12.5\n",
            "google-cloud-storage               2.8.0\n",
            "google-cloud-translate             3.15.5\n",
            "google-colab                       1.0.0\n",
            "google-crc32c                      1.6.0\n",
            "google-generativeai                0.7.2\n",
            "google-pasta                       0.2.0\n",
            "google-resumable-media             2.7.2\n",
            "googleapis-common-protos           1.65.0\n",
            "googledrivedownloader              0.4\n",
            "graphviz                           0.20.3\n",
            "greenlet                           3.1.1\n",
            "grpc-google-iam-v1                 0.13.1\n",
            "grpcio                             1.64.1\n",
            "grpcio-status                      1.48.2\n",
            "gspread                            6.0.2\n",
            "gspread-dataframe                  3.3.1\n",
            "gym                                0.25.2\n",
            "gym-notices                        0.0.8\n",
            "h5netcdf                           1.4.0\n",
            "h5py                               3.11.0\n",
            "holidays                           0.57\n",
            "holoviews                          1.19.1\n",
            "html5lib                           1.1\n",
            "httpimport                         1.4.0\n",
            "httplib2                           0.22.0\n",
            "huggingface-hub                    0.24.7\n",
            "humanize                           4.10.0\n",
            "hyperopt                           0.2.7\n",
            "ibis-framework                     9.2.0\n",
            "idna                               3.10\n",
            "imageio                            2.35.1\n",
            "imageio-ffmpeg                     0.5.1\n",
            "imagesize                          1.4.1\n",
            "imbalanced-learn                   0.12.4\n",
            "imgaug                             0.4.0\n",
            "immutabledict                      4.2.0\n",
            "importlib_metadata                 8.4.0\n",
            "importlib_resources                6.4.5\n",
            "imutils                            0.5.4\n",
            "inflect                            7.4.0\n",
            "iniconfig                          2.0.0\n",
            "intel-cmplr-lib-ur                 2024.2.1\n",
            "intel-openmp                       2024.2.1\n",
            "ipyevents                          2.0.2\n",
            "ipyfilechooser                     0.6.0\n",
            "ipykernel                          5.5.6\n",
            "ipyleaflet                         0.19.2\n",
            "ipyparallel                        8.8.0\n",
            "ipython                            7.34.0\n",
            "ipython-genutils                   0.2.0\n",
            "ipython-sql                        0.5.0\n",
            "ipytree                            0.2.2\n",
            "ipywidgets                         7.7.1\n",
            "itsdangerous                       2.2.0\n",
            "jax                                0.4.33\n",
            "jax-cuda12-pjrt                    0.4.33\n",
            "jax-cuda12-plugin                  0.4.33\n",
            "jaxlib                             0.4.33\n",
            "jeepney                            0.7.1\n",
            "jellyfish                          1.1.0\n",
            "jieba                              0.42.1\n",
            "Jinja2                             3.1.4\n",
            "joblib                             1.4.2\n",
            "jsonpickle                         3.3.0\n",
            "jsonschema                         4.23.0\n",
            "jsonschema-specifications          2023.12.1\n",
            "jupyter-client                     6.1.12\n",
            "jupyter-console                    6.1.0\n",
            "jupyter_core                       5.7.2\n",
            "jupyter-leaflet                    0.19.2\n",
            "jupyter-server                     1.24.0\n",
            "jupyterlab_pygments                0.3.0\n",
            "jupyterlab_widgets                 3.0.13\n",
            "kaggle                             1.6.17\n",
            "kagglehub                          0.3.1\n",
            "keras                              3.4.1\n",
            "keyring                            23.5.0\n",
            "kiwisolver                         1.4.7\n",
            "langcodes                          3.4.1\n",
            "language_data                      1.2.0\n",
            "launchpadlib                       1.10.16\n",
            "lazr.restfulclient                 0.14.4\n",
            "lazr.uri                           1.0.6\n",
            "lazy_loader                        0.4\n",
            "libclang                           18.1.1\n",
            "librosa                            0.10.2.post1\n",
            "lightgbm                           4.5.0\n",
            "linkify-it-py                      2.0.3\n",
            "llvmlite                           0.43.0\n",
            "locket                             1.0.0\n",
            "logical-unification                0.4.6\n",
            "lxml                               4.9.4\n",
            "marisa-trie                        1.2.0\n",
            "Markdown                           3.7\n",
            "markdown-it-py                     3.0.0\n",
            "MarkupSafe                         2.1.5\n",
            "matplotlib                         3.7.1\n",
            "matplotlib-inline                  0.1.7\n",
            "matplotlib-venn                    1.1.1\n",
            "mdit-py-plugins                    0.4.2\n",
            "mdurl                              0.1.2\n",
            "miniKanren                         1.0.3\n",
            "mistune                            0.8.4\n",
            "mizani                             0.11.4\n",
            "mkl                                2024.2.2\n",
            "ml-dtypes                          0.4.1\n",
            "mlxtend                            0.23.1\n",
            "more-itertools                     10.5.0\n",
            "moviepy                            1.0.3\n",
            "mpmath                             1.3.0\n",
            "msgpack                            1.0.8\n",
            "multidict                          6.1.0\n",
            "multipledispatch                   1.0.0\n",
            "multitasking                       0.0.11\n",
            "murmurhash                         1.0.10\n",
            "music21                            9.1.0\n",
            "namex                              0.0.8\n",
            "natsort                            8.4.0\n",
            "nbclassic                          1.1.0\n",
            "nbclient                           0.10.0\n",
            "nbconvert                          6.5.4\n",
            "nbformat                           5.10.4\n",
            "nest-asyncio                       1.6.0\n",
            "networkx                           3.3\n",
            "nibabel                            5.2.1\n",
            "nltk                               3.8.1\n",
            "notebook                           6.5.5\n",
            "notebook_shim                      0.2.4\n",
            "numba                              0.60.0\n",
            "numexpr                            2.10.1\n",
            "numpy                              1.26.4\n",
            "nvidia-cublas-cu12                 12.6.3.3\n",
            "nvidia-cuda-cupti-cu12             12.6.80\n",
            "nvidia-cuda-nvcc-cu12              12.6.77\n",
            "nvidia-cuda-runtime-cu12           12.6.77\n",
            "nvidia-cudnn-cu12                  9.4.0.58\n",
            "nvidia-cufft-cu12                  11.3.0.4\n",
            "nvidia-cusolver-cu12               11.7.1.2\n",
            "nvidia-cusparse-cu12               12.5.4.2\n",
            "nvidia-nccl-cu12                   2.23.4\n",
            "nvidia-nvjitlink-cu12              12.6.77\n",
            "nvtx                               0.2.10\n",
            "oauth2client                       4.1.3\n",
            "oauthlib                           3.2.2\n",
            "opencv-contrib-python              4.10.0.84\n",
            "opencv-python                      4.10.0.84\n",
            "opencv-python-headless             4.10.0.84\n",
            "openpyxl                           3.1.5\n",
            "opentelemetry-api                  1.27.0\n",
            "opentelemetry-sdk                  1.27.0\n",
            "opentelemetry-semantic-conventions 0.48b0\n",
            "opt_einsum                         3.4.0\n",
            "optax                              0.2.3\n",
            "optree                             0.13.0\n",
            "orbax-checkpoint                   0.6.4\n",
            "osqp                               0.6.7.post0\n",
            "packaging                          24.1\n",
            "pandas                             2.2.2\n",
            "pandas-datareader                  0.10.0\n",
            "pandas-gbq                         0.23.2\n",
            "pandas-stubs                       2.2.2.240909\n",
            "pandocfilters                      1.5.1\n",
            "panel                              1.4.5\n",
            "param                              2.1.1\n",
            "parso                              0.8.4\n",
            "parsy                              2.1\n",
            "partd                              1.4.2\n",
            "pathlib                            1.0.1\n",
            "patsy                              0.5.6\n",
            "peewee                             3.17.6\n",
            "pexpect                            4.9.0\n",
            "pickleshare                        0.7.5\n",
            "pillow                             10.4.0\n",
            "pip                                24.1.2\n",
            "pip-tools                          7.4.1\n",
            "platformdirs                       4.3.6\n",
            "plotly                             5.24.1\n",
            "plotnine                           0.13.6\n",
            "pluggy                             1.5.0\n",
            "polars                             1.7.1\n",
            "pooch                              1.8.2\n",
            "portpicker                         1.5.2\n",
            "prefetch_generator                 1.0.3\n",
            "preshed                            3.0.9\n",
            "prettytable                        3.11.0\n",
            "proglog                            0.1.10\n",
            "progressbar2                       4.5.0\n",
            "prometheus_client                  0.21.0\n",
            "promise                            2.3\n",
            "prompt_toolkit                     3.0.48\n",
            "prophet                            1.1.6\n",
            "proto-plus                         1.24.0\n",
            "protobuf                           3.20.3\n",
            "psutil                             5.9.5\n",
            "psycopg2                           2.9.9\n",
            "ptyprocess                         0.7.0\n",
            "py-cpuinfo                         9.0.0\n",
            "py4j                               0.10.9.7\n",
            "pyarrow                            16.1.0\n",
            "pyarrow-hotfix                     0.6\n",
            "pyasn1                             0.6.1\n",
            "pyasn1_modules                     0.4.1\n",
            "pycocotools                        2.0.8\n",
            "pycparser                          2.22\n",
            "pydantic                           2.9.2\n",
            "pydantic_core                      2.23.4\n",
            "pydata-google-auth                 1.8.2\n",
            "pydot                              3.0.2\n",
            "pydot-ng                           2.0.0\n",
            "pydotplus                          2.0.2\n",
            "PyDrive                            1.3.1\n",
            "PyDrive2                           1.20.0\n",
            "pyerfa                             2.0.1.4\n",
            "pygame                             2.6.1\n",
            "Pygments                           2.18.0\n",
            "PyGObject                          3.42.1\n",
            "PyJWT                              2.9.0\n",
            "pymc                               5.16.2\n",
            "pymystem3                          0.2.0\n",
            "pynvjitlink-cu12                   0.3.0\n",
            "pyogrio                            0.10.0\n",
            "PyOpenGL                           3.1.7\n",
            "pyOpenSSL                          24.2.1\n",
            "pyparsing                          3.1.4\n",
            "pyperclip                          1.9.0\n",
            "pyproj                             3.7.0\n",
            "pyproject_hooks                    1.2.0\n",
            "pyshp                              2.3.1\n",
            "PySocks                            1.7.1\n",
            "pytensor                           2.25.5\n",
            "pytest                             7.4.4\n",
            "python-apt                         0.0.0\n",
            "python-box                         7.2.0\n",
            "python-dateutil                    2.8.2\n",
            "python-louvain                     0.16\n",
            "python-slugify                     8.0.4\n",
            "python-utils                       3.9.0\n",
            "pytz                               2024.2\n",
            "pyviz_comms                        3.0.3\n",
            "PyYAML                             6.0.2\n",
            "pyzmq                              24.0.1\n",
            "qdldl                              0.1.7.post4\n",
            "ratelim                            0.1.6\n",
            "referencing                        0.35.1\n",
            "regex                              2024.9.11\n",
            "requests                           2.32.3\n",
            "requests-oauthlib                  1.3.1\n",
            "requirements-parser                0.9.0\n",
            "rich                               13.9.2\n",
            "rmm-cu12                           24.6.0\n",
            "rpds-py                            0.20.0\n",
            "rpy2                               3.4.2\n",
            "rsa                                4.9\n",
            "safetensors                        0.4.5\n",
            "scikit-image                       0.24.0\n",
            "scikit-learn                       1.5.2\n",
            "scipy                              1.13.1\n",
            "scooby                             0.10.0\n",
            "scs                                3.2.7\n",
            "seaborn                            0.13.2\n",
            "SecretStorage                      3.3.1\n",
            "Send2Trash                         1.8.3\n",
            "sentencepiece                      0.2.0\n",
            "setuptools                         71.0.4\n",
            "shapely                            2.0.6\n",
            "shellingham                        1.5.4\n",
            "simple-parsing                     0.1.6\n",
            "six                                1.16.0\n",
            "sklearn-pandas                     2.2.0\n",
            "smart-open                         7.0.5\n",
            "sniffio                            1.3.1\n",
            "snowballstemmer                    2.2.0\n",
            "sortedcontainers                   2.4.0\n",
            "soundfile                          0.12.1\n",
            "soupsieve                          2.6\n",
            "soxr                               0.5.0.post1\n",
            "spacy                              3.7.5\n",
            "spacy-legacy                       3.0.12\n",
            "spacy-loggers                      1.0.5\n",
            "Sphinx                             5.0.2\n",
            "sphinxcontrib-applehelp            2.0.0\n",
            "sphinxcontrib-devhelp              2.0.0\n",
            "sphinxcontrib-htmlhelp             2.1.0\n",
            "sphinxcontrib-jsmath               1.0.1\n",
            "sphinxcontrib-qthelp               2.0.0\n",
            "sphinxcontrib-serializinghtml      2.0.0\n",
            "SQLAlchemy                         2.0.35\n",
            "sqlglot                            25.1.0\n",
            "sqlparse                           0.5.1\n",
            "srsly                              2.4.8\n",
            "stanio                             0.5.1\n",
            "statsmodels                        0.14.4\n",
            "StrEnum                            0.4.15\n",
            "sympy                              1.13.3\n",
            "tables                             3.8.0\n",
            "tabulate                           0.9.0\n",
            "tbb                                2021.13.1\n",
            "tblib                              3.0.0\n",
            "tenacity                           9.0.0\n",
            "tensorboard                        2.17.0\n",
            "tensorboard-data-server            0.7.2\n",
            "tensorflow                         2.17.0\n",
            "tensorflow-datasets                4.9.6\n",
            "tensorflow-hub                     0.16.1\n",
            "tensorflow-io-gcs-filesystem       0.37.1\n",
            "tensorflow-metadata                1.16.0\n",
            "tensorflow-probability             0.24.0\n",
            "tensorstore                        0.1.66\n",
            "termcolor                          2.5.0\n",
            "terminado                          0.18.1\n",
            "text-unidecode                     1.3\n",
            "textblob                           0.17.1\n",
            "tf_keras                           2.17.0\n",
            "tf-slim                            1.1.0\n",
            "thinc                              8.2.5\n",
            "threadpoolctl                      3.5.0\n",
            "tifffile                           2024.9.20\n",
            "tinycss2                           1.3.0\n",
            "tokenizers                         0.19.1\n",
            "toml                               0.10.2\n",
            "tomli                              2.0.2\n",
            "toolz                              0.12.1\n",
            "torch                              2.4.1+cu121\n",
            "torchaudio                         2.4.1+cu121\n",
            "torchsummary                       1.5.1\n",
            "torchvision                        0.19.1+cu121\n",
            "tornado                            6.3.3\n",
            "tqdm                               4.66.5\n",
            "traitlets                          5.7.1\n",
            "traittypes                         0.2.1\n",
            "transformers                       4.44.2\n",
            "tweepy                             4.14.0\n",
            "typeguard                          4.3.0\n",
            "typer                              0.12.5\n",
            "types-pytz                         2024.2.0.20241003\n",
            "types-setuptools                   75.1.0.20240917\n",
            "typing_extensions                  4.12.2\n",
            "tzdata                             2024.2\n",
            "tzlocal                            5.2\n",
            "uc-micro-py                        1.0.3\n",
            "uritemplate                        4.1.1\n",
            "urllib3                            2.2.3\n",
            "vega-datasets                      0.9.0\n",
            "wadllib                            1.3.6\n",
            "wasabi                             1.1.3\n",
            "wcwidth                            0.2.13\n",
            "weasel                             0.4.1\n",
            "webcolors                          24.8.0\n",
            "webencodings                       0.5.1\n",
            "websocket-client                   1.8.0\n",
            "Werkzeug                           3.0.4\n",
            "wheel                              0.44.0\n",
            "widgetsnbextension                 3.6.9\n",
            "wordcloud                          1.9.3\n",
            "wrapt                              1.16.0\n",
            "xarray                             2024.9.0\n",
            "xarray-einstats                    0.8.0\n",
            "xgboost                            2.1.1\n",
            "xlrd                               2.0.1\n",
            "xyzservices                        2024.9.0\n",
            "yarl                               1.13.1\n",
            "yellowbrick                        1.5\n",
            "yfinance                           0.2.44\n",
            "zict                               3.0.0\n",
            "zipp                               3.20.2\n"
          ]
        }
      ],
      "source": [
        "pip list"
      ]
    },
    {
      "cell_type": "markdown",
      "metadata": {
        "id": "G_IjDeFh8GGP"
      },
      "source": [
        "### 설치된 라이브러리 확인(특정 라이브러리)"
      ]
    },
    {
      "cell_type": "code",
      "execution_count": null,
      "metadata": {
        "id": "TqvE9YpV8GGP",
        "colab": {
          "base_uri": "https://localhost:8080/"
        },
        "collapsed": true,
        "outputId": "0576d76a-8064-443d-dadd-426f31d468c1"
      },
      "outputs": [
        {
          "output_type": "stream",
          "name": "stdout",
          "text": [
            "Name: numpy\n",
            "Version: 1.26.4\n",
            "Summary: Fundamental package for array computing in Python\n",
            "Home-page: https://numpy.org\n",
            "Author: Travis E. Oliphant et al.\n",
            "Author-email: \n",
            "License: Copyright (c) 2005-2023, NumPy Developers.\n",
            "        All rights reserved.\n",
            "        \n",
            "        Redistribution and use in source and binary forms, with or without\n",
            "        modification, are permitted provided that the following conditions are\n",
            "        met:\n",
            "        \n",
            "            * Redistributions of source code must retain the above copyright\n",
            "               notice, this list of conditions and the following disclaimer.\n",
            "        \n",
            "            * Redistributions in binary form must reproduce the above\n",
            "               copyright notice, this list of conditions and the following\n",
            "               disclaimer in the documentation and/or other materials provided\n",
            "               with the distribution.\n",
            "        \n",
            "            * Neither the name of the NumPy Developers nor the names of any\n",
            "               contributors may be used to endorse or promote products derived\n",
            "               from this software without specific prior written permission.\n",
            "        \n",
            "        THIS SOFTWARE IS PROVIDED BY THE COPYRIGHT HOLDERS AND CONTRIBUTORS\n",
            "        \"AS IS\" AND ANY EXPRESS OR IMPLIED WARRANTIES, INCLUDING, BUT NOT\n",
            "        LIMITED TO, THE IMPLIED WARRANTIES OF MERCHANTABILITY AND FITNESS FOR\n",
            "        A PARTICULAR PURPOSE ARE DISCLAIMED. IN NO EVENT SHALL THE COPYRIGHT\n",
            "        OWNER OR CONTRIBUTORS BE LIABLE FOR ANY DIRECT, INDIRECT, INCIDENTAL,\n",
            "        SPECIAL, EXEMPLARY, OR CONSEQUENTIAL DAMAGES (INCLUDING, BUT NOT\n",
            "        LIMITED TO, PROCUREMENT OF SUBSTITUTE GOODS OR SERVICES; LOSS OF USE,\n",
            "        DATA, OR PROFITS; OR BUSINESS INTERRUPTION) HOWEVER CAUSED AND ON ANY\n",
            "        THEORY OF LIABILITY, WHETHER IN CONTRACT, STRICT LIABILITY, OR TORT\n",
            "        (INCLUDING NEGLIGENCE OR OTHERWISE) ARISING IN ANY WAY OUT OF THE USE\n",
            "        OF THIS SOFTWARE, EVEN IF ADVISED OF THE POSSIBILITY OF SUCH DAMAGE.\n",
            "        \n",
            "        ----\n",
            "        \n",
            "        The NumPy repository and source distributions bundle several libraries that are\n",
            "        compatibly licensed.  We list these here.\n",
            "        \n",
            "        Name: lapack-lite\n",
            "        Files: numpy/linalg/lapack_lite/*\n",
            "        License: BSD-3-Clause\n",
            "          For details, see numpy/linalg/lapack_lite/LICENSE.txt\n",
            "        \n",
            "        Name: tempita\n",
            "        Files: tools/npy_tempita/*\n",
            "        License: MIT\n",
            "          For details, see tools/npy_tempita/license.txt\n",
            "        \n",
            "        Name: dragon4\n",
            "        Files: numpy/core/src/multiarray/dragon4.c\n",
            "        License: MIT\n",
            "          For license text, see numpy/core/src/multiarray/dragon4.c\n",
            "        \n",
            "        Name: libdivide\n",
            "        Files: numpy/core/include/numpy/libdivide/*\n",
            "        License: Zlib\n",
            "          For license text, see numpy/core/include/numpy/libdivide/LICENSE.txt\n",
            "        \n",
            "        \n",
            "        Note that the following files are vendored in the repository and sdist but not\n",
            "        installed in built numpy packages:\n",
            "        \n",
            "        Name: Meson\n",
            "        Files: vendored-meson/meson/*\n",
            "        License: Apache 2.0\n",
            "          For license text, see vendored-meson/meson/COPYING\n",
            "        \n",
            "        Name: spin\n",
            "        Files: .spin/cmds.py\n",
            "        License: BSD-3\n",
            "          For license text, see .spin/LICENSE\n",
            "        \n",
            "        ----\n",
            "        \n",
            "        This binary distribution of NumPy also bundles the following software:\n",
            "        \n",
            "        \n",
            "        Name: OpenBLAS\n",
            "        Files: numpy.libs/libopenblas*.so\n",
            "        Description: bundled as a dynamically linked library\n",
            "        Availability: https://github.com/OpenMathLib/OpenBLAS/\n",
            "        License: BSD-3-Clause\n",
            "          Copyright (c) 2011-2014, The OpenBLAS Project\n",
            "          All rights reserved.\n",
            "        \n",
            "          Redistribution and use in source and binary forms, with or without\n",
            "          modification, are permitted provided that the following conditions are\n",
            "          met:\n",
            "        \n",
            "             1. Redistributions of source code must retain the above copyright\n",
            "                notice, this list of conditions and the following disclaimer.\n",
            "        \n",
            "             2. Redistributions in binary form must reproduce the above copyright\n",
            "                notice, this list of conditions and the following disclaimer in\n",
            "                the documentation and/or other materials provided with the\n",
            "                distribution.\n",
            "             3. Neither the name of the OpenBLAS project nor the names of\n",
            "                its contributors may be used to endorse or promote products\n",
            "                derived from this software without specific prior written\n",
            "                permission.\n",
            "        \n",
            "          THIS SOFTWARE IS PROVIDED BY THE COPYRIGHT HOLDERS AND CONTRIBUTORS \"AS IS\"\n",
            "          AND ANY EXPRESS OR IMPLIED WARRANTIES, INCLUDING, BUT NOT LIMITED TO, THE\n",
            "          IMPLIED WARRANTIES OF MERCHANTABILITY AND FITNESS FOR A PARTICULAR PURPOSE\n",
            "          ARE DISCLAIMED. IN NO EVENT SHALL THE COPYRIGHT OWNER OR CONTRIBUTORS BE\n",
            "          LIABLE FOR ANY DIRECT, INDIRECT, INCIDENTAL, SPECIAL, EXEMPLARY, OR CONSEQUENTIAL\n",
            "          DAMAGES (INCLUDING, BUT NOT LIMITED TO, PROCUREMENT OF SUBSTITUTE GOODS OR\n",
            "          SERVICES; LOSS OF USE, DATA, OR PROFITS; OR BUSINESS INTERRUPTION) HOWEVER\n",
            "          CAUSED AND ON ANY THEORY OF LIABILITY, WHETHER IN CONTRACT, STRICT LIABILITY,\n",
            "          OR TORT (INCLUDING NEGLIGENCE OR OTHERWISE) ARISING IN ANY WAY OUT OF THE\n",
            "          USE OF THIS SOFTWARE, EVEN IF ADVISED OF THE POSSIBILITY OF SUCH DAMAGE.\n",
            "        \n",
            "        \n",
            "        Name: LAPACK\n",
            "        Files: numpy.libs/libopenblas*.so\n",
            "        Description: bundled in OpenBLAS\n",
            "        Availability: https://github.com/OpenMathLib/OpenBLAS/\n",
            "        License: BSD-3-Clause-Attribution\n",
            "          Copyright (c) 1992-2013 The University of Tennessee and The University\n",
            "                                  of Tennessee Research Foundation.  All rights\n",
            "                                  reserved.\n",
            "          Copyright (c) 2000-2013 The University of California Berkeley. All\n",
            "                                  rights reserved.\n",
            "          Copyright (c) 2006-2013 The University of Colorado Denver.  All rights\n",
            "                                  reserved.\n",
            "        \n",
            "          $COPYRIGHT$\n",
            "        \n",
            "          Additional copyrights may follow\n",
            "        \n",
            "          $HEADER$\n",
            "        \n",
            "          Redistribution and use in source and binary forms, with or without\n",
            "          modification, are permitted provided that the following conditions are\n",
            "          met:\n",
            "        \n",
            "          - Redistributions of source code must retain the above copyright\n",
            "            notice, this list of conditions and the following disclaimer.\n",
            "        \n",
            "          - Redistributions in binary form must reproduce the above copyright\n",
            "            notice, this list of conditions and the following disclaimer listed\n",
            "            in this license in the documentation and/or other materials\n",
            "            provided with the distribution.\n",
            "        \n",
            "          - Neither the name of the copyright holders nor the names of its\n",
            "            contributors may be used to endorse or promote products derived from\n",
            "            this software without specific prior written permission.\n",
            "        \n",
            "          The copyright holders provide no reassurances that the source code\n",
            "          provided does not infringe any patent, copyright, or any other\n",
            "          intellectual property rights of third parties.  The copyright holders\n",
            "          disclaim any liability to any recipient for claims brought against\n",
            "          recipient by any third party for infringement of that parties\n",
            "          intellectual property rights.\n",
            "        \n",
            "          THIS SOFTWARE IS PROVIDED BY THE COPYRIGHT HOLDERS AND CONTRIBUTORS\n",
            "          \"AS IS\" AND ANY EXPRESS OR IMPLIED WARRANTIES, INCLUDING, BUT NOT\n",
            "          LIMITED TO, THE IMPLIED WARRANTIES OF MERCHANTABILITY AND FITNESS FOR\n",
            "          A PARTICULAR PURPOSE ARE DISCLAIMED. IN NO EVENT SHALL THE COPYRIGHT\n",
            "          OWNER OR CONTRIBUTORS BE LIABLE FOR ANY DIRECT, INDIRECT, INCIDENTAL,\n",
            "          SPECIAL, EXEMPLARY, OR CONSEQUENTIAL DAMAGES (INCLUDING, BUT NOT\n",
            "          LIMITED TO, PROCUREMENT OF SUBSTITUTE GOODS OR SERVICES; LOSS OF USE,\n",
            "          DATA, OR PROFITS; OR BUSINESS INTERRUPTION) HOWEVER CAUSED AND ON ANY\n",
            "          THEORY OF LIABILITY, WHETHER IN CONTRACT, STRICT LIABILITY, OR TORT\n",
            "          (INCLUDING NEGLIGENCE OR OTHERWISE) ARISING IN ANY WAY OUT OF THE USE\n",
            "          OF THIS SOFTWARE, EVEN IF ADVISED OF THE POSSIBILITY OF SUCH DAMAGE.\n",
            "        \n",
            "        \n",
            "        Name: GCC runtime library\n",
            "        Files: numpy.libs/libgfortran*.so\n",
            "        Description: dynamically linked to files compiled with gcc\n",
            "        Availability: https://gcc.gnu.org/git/?p=gcc.git;a=tree;f=libgfortran\n",
            "        License: GPL-3.0-with-GCC-exception\n",
            "          Copyright (C) 2002-2017 Free Software Foundation, Inc.\n",
            "        \n",
            "          Libgfortran is free software; you can redistribute it and/or modify\n",
            "          it under the terms of the GNU General Public License as published by\n",
            "          the Free Software Foundation; either version 3, or (at your option)\n",
            "          any later version.\n",
            "        \n",
            "          Libgfortran is distributed in the hope that it will be useful,\n",
            "          but WITHOUT ANY WARRANTY; without even the implied warranty of\n",
            "          MERCHANTABILITY or FITNESS FOR A PARTICULAR PURPOSE.  See the\n",
            "          GNU General Public License for more details.\n",
            "        \n",
            "          Under Section 7 of GPL version 3, you are granted additional\n",
            "          permissions described in the GCC Runtime Library Exception, version\n",
            "          3.1, as published by the Free Software Foundation.\n",
            "        \n",
            "          You should have received a copy of the GNU General Public License and\n",
            "          a copy of the GCC Runtime Library Exception along with this program;\n",
            "          see the files COPYING3 and COPYING.RUNTIME respectively.  If not, see\n",
            "          <http://www.gnu.org/licenses/>.\n",
            "        \n",
            "        ----\n",
            "        \n",
            "        Full text of license texts referred to above follows (that they are\n",
            "        listed below does not necessarily imply the conditions apply to the\n",
            "        present binary release):\n",
            "        \n",
            "        ----\n",
            "        \n",
            "        GCC RUNTIME LIBRARY EXCEPTION\n",
            "        \n",
            "        Version 3.1, 31 March 2009\n",
            "        \n",
            "        Copyright (C) 2009 Free Software Foundation, Inc. <http://fsf.org/>\n",
            "        \n",
            "        Everyone is permitted to copy and distribute verbatim copies of this\n",
            "        license document, but changing it is not allowed.\n",
            "        \n",
            "        This GCC Runtime Library Exception (\"Exception\") is an additional\n",
            "        permission under section 7 of the GNU General Public License, version\n",
            "        3 (\"GPLv3\"). It applies to a given file (the \"Runtime Library\") that\n",
            "        bears a notice placed by the copyright holder of the file stating that\n",
            "        the file is governed by GPLv3 along with this Exception.\n",
            "        \n",
            "        When you use GCC to compile a program, GCC may combine portions of\n",
            "        certain GCC header files and runtime libraries with the compiled\n",
            "        program. The purpose of this Exception is to allow compilation of\n",
            "        non-GPL (including proprietary) programs to use, in this way, the\n",
            "        header files and runtime libraries covered by this Exception.\n",
            "        \n",
            "        0. Definitions.\n",
            "        \n",
            "        A file is an \"Independent Module\" if it either requires the Runtime\n",
            "        Library for execution after a Compilation Process, or makes use of an\n",
            "        interface provided by the Runtime Library, but is not otherwise based\n",
            "        on the Runtime Library.\n",
            "        \n",
            "        \"GCC\" means a version of the GNU Compiler Collection, with or without\n",
            "        modifications, governed by version 3 (or a specified later version) of\n",
            "        the GNU General Public License (GPL) with the option of using any\n",
            "        subsequent versions published by the FSF.\n",
            "        \n",
            "        \"GPL-compatible Software\" is software whose conditions of propagation,\n",
            "        modification and use would permit combination with GCC in accord with\n",
            "        the license of GCC.\n",
            "        \n",
            "        \"Target Code\" refers to output from any compiler for a real or virtual\n",
            "        target processor architecture, in executable form or suitable for\n",
            "        input to an assembler, loader, linker and/or execution\n",
            "        phase. Notwithstanding that, Target Code does not include data in any\n",
            "        format that is used as a compiler intermediate representation, or used\n",
            "        for producing a compiler intermediate representation.\n",
            "        \n",
            "        The \"Compilation Process\" transforms code entirely represented in\n",
            "        non-intermediate languages designed for human-written code, and/or in\n",
            "        Java Virtual Machine byte code, into Target Code. Thus, for example,\n",
            "        use of source code generators and preprocessors need not be considered\n",
            "        part of the Compilation Process, since the Compilation Process can be\n",
            "        understood as starting with the output of the generators or\n",
            "        preprocessors.\n",
            "        \n",
            "        A Compilation Process is \"Eligible\" if it is done using GCC, alone or\n",
            "        with other GPL-compatible software, or if it is done without using any\n",
            "        work based on GCC. For example, using non-GPL-compatible Software to\n",
            "        optimize any GCC intermediate representations would not qualify as an\n",
            "        Eligible Compilation Process.\n",
            "        \n",
            "        1. Grant of Additional Permission.\n",
            "        \n",
            "        You have permission to propagate a work of Target Code formed by\n",
            "        combining the Runtime Library with Independent Modules, even if such\n",
            "        propagation would otherwise violate the terms of GPLv3, provided that\n",
            "        all Target Code was generated by Eligible Compilation Processes. You\n",
            "        may then convey such a combination under terms of your choice,\n",
            "        consistent with the licensing of the Independent Modules.\n",
            "        \n",
            "        2. No Weakening of GCC Copyleft.\n",
            "        \n",
            "        The availability of this Exception does not imply any general\n",
            "        presumption that third-party software is unaffected by the copyleft\n",
            "        requirements of the license of GCC.\n",
            "        \n",
            "        ----\n",
            "        \n",
            "                            GNU GENERAL PUBLIC LICENSE\n",
            "                               Version 3, 29 June 2007\n",
            "        \n",
            "         Copyright (C) 2007 Free Software Foundation, Inc. <http://fsf.org/>\n",
            "         Everyone is permitted to copy and distribute verbatim copies\n",
            "         of this license document, but changing it is not allowed.\n",
            "        \n",
            "                                    Preamble\n",
            "        \n",
            "          The GNU General Public License is a free, copyleft license for\n",
            "        software and other kinds of works.\n",
            "        \n",
            "          The licenses for most software and other practical works are designed\n",
            "        to take away your freedom to share and change the works.  By contrast,\n",
            "        the GNU General Public License is intended to guarantee your freedom to\n",
            "        share and change all versions of a program--to make sure it remains free\n",
            "        software for all its users.  We, the Free Software Foundation, use the\n",
            "        GNU General Public License for most of our software; it applies also to\n",
            "        any other work released this way by its authors.  You can apply it to\n",
            "        your programs, too.\n",
            "        \n",
            "          When we speak of free software, we are referring to freedom, not\n",
            "        price.  Our General Public Licenses are designed to make sure that you\n",
            "        have the freedom to distribute copies of free software (and charge for\n",
            "        them if you wish), that you receive source code or can get it if you\n",
            "        want it, that you can change the software or use pieces of it in new\n",
            "        free programs, and that you know you can do these things.\n",
            "        \n",
            "          To protect your rights, we need to prevent others from denying you\n",
            "        these rights or asking you to surrender the rights.  Therefore, you have\n",
            "        certain responsibilities if you distribute copies of the software, or if\n",
            "        you modify it: responsibilities to respect the freedom of others.\n",
            "        \n",
            "          For example, if you distribute copies of such a program, whether\n",
            "        gratis or for a fee, you must pass on to the recipients the same\n",
            "        freedoms that you received.  You must make sure that they, too, receive\n",
            "        or can get the source code.  And you must show them these terms so they\n",
            "        know their rights.\n",
            "        \n",
            "          Developers that use the GNU GPL protect your rights with two steps:\n",
            "        (1) assert copyright on the software, and (2) offer you this License\n",
            "        giving you legal permission to copy, distribute and/or modify it.\n",
            "        \n",
            "          For the developers' and authors' protection, the GPL clearly explains\n",
            "        that there is no warranty for this free software.  For both users' and\n",
            "        authors' sake, the GPL requires that modified versions be marked as\n",
            "        changed, so that their problems will not be attributed erroneously to\n",
            "        authors of previous versions.\n",
            "        \n",
            "          Some devices are designed to deny users access to install or run\n",
            "        modified versions of the software inside them, although the manufacturer\n",
            "        can do so.  This is fundamentally incompatible with the aim of\n",
            "        protecting users' freedom to change the software.  The systematic\n",
            "        pattern of such abuse occurs in the area of products for individuals to\n",
            "        use, which is precisely where it is most unacceptable.  Therefore, we\n",
            "        have designed this version of the GPL to prohibit the practice for those\n",
            "        products.  If such problems arise substantially in other domains, we\n",
            "        stand ready to extend this provision to those domains in future versions\n",
            "        of the GPL, as needed to protect the freedom of users.\n",
            "        \n",
            "          Finally, every program is threatened constantly by software patents.\n",
            "        States should not allow patents to restrict development and use of\n",
            "        software on general-purpose computers, but in those that do, we wish to\n",
            "        avoid the special danger that patents applied to a free program could\n",
            "        make it effectively proprietary.  To prevent this, the GPL assures that\n",
            "        patents cannot be used to render the program non-free.\n",
            "        \n",
            "          The precise terms and conditions for copying, distribution and\n",
            "        modification follow.\n",
            "        \n",
            "                               TERMS AND CONDITIONS\n",
            "        \n",
            "          0. Definitions.\n",
            "        \n",
            "          \"This License\" refers to version 3 of the GNU General Public License.\n",
            "        \n",
            "          \"Copyright\" also means copyright-like laws that apply to other kinds of\n",
            "        works, such as semiconductor masks.\n",
            "        \n",
            "          \"The Program\" refers to any copyrightable work licensed under this\n",
            "        License.  Each licensee is addressed as \"you\".  \"Licensees\" and\n",
            "        \"recipients\" may be individuals or organizations.\n",
            "        \n",
            "          To \"modify\" a work means to copy from or adapt all or part of the work\n",
            "        in a fashion requiring copyright permission, other than the making of an\n",
            "        exact copy.  The resulting work is called a \"modified version\" of the\n",
            "        earlier work or a work \"based on\" the earlier work.\n",
            "        \n",
            "          A \"covered work\" means either the unmodified Program or a work based\n",
            "        on the Program.\n",
            "        \n",
            "          To \"propagate\" a work means to do anything with it that, without\n",
            "        permission, would make you directly or secondarily liable for\n",
            "        infringement under applicable copyright law, except executing it on a\n",
            "        computer or modifying a private copy.  Propagation includes copying,\n",
            "        distribution (with or without modification), making available to the\n",
            "        public, and in some countries other activities as well.\n",
            "        \n",
            "          To \"convey\" a work means any kind of propagation that enables other\n",
            "        parties to make or receive copies.  Mere interaction with a user through\n",
            "        a computer network, with no transfer of a copy, is not conveying.\n",
            "        \n",
            "          An interactive user interface displays \"Appropriate Legal Notices\"\n",
            "        to the extent that it includes a convenient and prominently visible\n",
            "        feature that (1) displays an appropriate copyright notice, and (2)\n",
            "        tells the user that there is no warranty for the work (except to the\n",
            "        extent that warranties are provided), that licensees may convey the\n",
            "        work under this License, and how to view a copy of this License.  If\n",
            "        the interface presents a list of user commands or options, such as a\n",
            "        menu, a prominent item in the list meets this criterion.\n",
            "        \n",
            "          1. Source Code.\n",
            "        \n",
            "          The \"source code\" for a work means the preferred form of the work\n",
            "        for making modifications to it.  \"Object code\" means any non-source\n",
            "        form of a work.\n",
            "        \n",
            "          A \"Standard Interface\" means an interface that either is an official\n",
            "        standard defined by a recognized standards body, or, in the case of\n",
            "        interfaces specified for a particular programming language, one that\n",
            "        is widely used among developers working in that language.\n",
            "        \n",
            "          The \"System Libraries\" of an executable work include anything, other\n",
            "        than the work as a whole, that (a) is included in the normal form of\n",
            "        packaging a Major Component, but which is not part of that Major\n",
            "        Component, and (b) serves only to enable use of the work with that\n",
            "        Major Component, or to implement a Standard Interface for which an\n",
            "        implementation is available to the public in source code form.  A\n",
            "        \"Major Component\", in this context, means a major essential component\n",
            "        (kernel, window system, and so on) of the specific operating system\n",
            "        (if any) on which the executable work runs, or a compiler used to\n",
            "        produce the work, or an object code interpreter used to run it.\n",
            "        \n",
            "          The \"Corresponding Source\" for a work in object code form means all\n",
            "        the source code needed to generate, install, and (for an executable\n",
            "        work) run the object code and to modify the work, including scripts to\n",
            "        control those activities.  However, it does not include the work's\n",
            "        System Libraries, or general-purpose tools or generally available free\n",
            "        programs which are used unmodified in performing those activities but\n",
            "        which are not part of the work.  For example, Corresponding Source\n",
            "        includes interface definition files associated with source files for\n",
            "        the work, and the source code for shared libraries and dynamically\n",
            "        linked subprograms that the work is specifically designed to require,\n",
            "        such as by intimate data communication or control flow between those\n",
            "        subprograms and other parts of the work.\n",
            "        \n",
            "          The Corresponding Source need not include anything that users\n",
            "        can regenerate automatically from other parts of the Corresponding\n",
            "        Source.\n",
            "        \n",
            "          The Corresponding Source for a work in source code form is that\n",
            "        same work.\n",
            "        \n",
            "          2. Basic Permissions.\n",
            "        \n",
            "          All rights granted under this License are granted for the term of\n",
            "        copyright on the Program, and are irrevocable provided the stated\n",
            "        conditions are met.  This License explicitly affirms your unlimited\n",
            "        permission to run the unmodified Program.  The output from running a\n",
            "        covered work is covered by this License only if the output, given its\n",
            "        content, constitutes a covered work.  This License acknowledges your\n",
            "        rights of fair use or other equivalent, as provided by copyright law.\n",
            "        \n",
            "          You may make, run and propagate covered works that you do not\n",
            "        convey, without conditions so long as your license otherwise remains\n",
            "        in force.  You may convey covered works to others for the sole purpose\n",
            "        of having them make modifications exclusively for you, or provide you\n",
            "        with facilities for running those works, provided that you comply with\n",
            "        the terms of this License in conveying all material for which you do\n",
            "        not control copyright.  Those thus making or running the covered works\n",
            "        for you must do so exclusively on your behalf, under your direction\n",
            "        and control, on terms that prohibit them from making any copies of\n",
            "        your copyrighted material outside their relationship with you.\n",
            "        \n",
            "          Conveying under any other circumstances is permitted solely under\n",
            "        the conditions stated below.  Sublicensing is not allowed; section 10\n",
            "        makes it unnecessary.\n",
            "        \n",
            "          3. Protecting Users' Legal Rights From Anti-Circumvention Law.\n",
            "        \n",
            "          No covered work shall be deemed part of an effective technological\n",
            "        measure under any applicable law fulfilling obligations under article\n",
            "        11 of the WIPO copyright treaty adopted on 20 December 1996, or\n",
            "        similar laws prohibiting or restricting circumvention of such\n",
            "        measures.\n",
            "        \n",
            "          When you convey a covered work, you waive any legal power to forbid\n",
            "        circumvention of technological measures to the extent such circumvention\n",
            "        is effected by exercising rights under this License with respect to\n",
            "        the covered work, and you disclaim any intention to limit operation or\n",
            "        modification of the work as a means of enforcing, against the work's\n",
            "        users, your or third parties' legal rights to forbid circumvention of\n",
            "        technological measures.\n",
            "        \n",
            "          4. Conveying Verbatim Copies.\n",
            "        \n",
            "          You may convey verbatim copies of the Program's source code as you\n",
            "        receive it, in any medium, provided that you conspicuously and\n",
            "        appropriately publish on each copy an appropriate copyright notice;\n",
            "        keep intact all notices stating that this License and any\n",
            "        non-permissive terms added in accord with section 7 apply to the code;\n",
            "        keep intact all notices of the absence of any warranty; and give all\n",
            "        recipients a copy of this License along with the Program.\n",
            "        \n",
            "          You may charge any price or no price for each copy that you convey,\n",
            "        and you may offer support or warranty protection for a fee.\n",
            "        \n",
            "          5. Conveying Modified Source Versions.\n",
            "        \n",
            "          You may convey a work based on the Program, or the modifications to\n",
            "        produce it from the Program, in the form of source code under the\n",
            "        terms of section 4, provided that you also meet all of these conditions:\n",
            "        \n",
            "            a) The work must carry prominent notices stating that you modified\n",
            "            it, and giving a relevant date.\n",
            "        \n",
            "            b) The work must carry prominent notices stating that it is\n",
            "            released under this License and any conditions added under section\n",
            "            7.  This requirement modifies the requirement in section 4 to\n",
            "            \"keep intact all notices\".\n",
            "        \n",
            "            c) You must license the entire work, as a whole, under this\n",
            "            License to anyone who comes into possession of a copy.  This\n",
            "            License will therefore apply, along with any applicable section 7\n",
            "            additional terms, to the whole of the work, and all its parts,\n",
            "            regardless of how they are packaged.  This License gives no\n",
            "            permission to license the work in any other way, but it does not\n",
            "            invalidate such permission if you have separately received it.\n",
            "        \n",
            "            d) If the work has interactive user interfaces, each must display\n",
            "            Appropriate Legal Notices; however, if the Program has interactive\n",
            "            interfaces that do not display Appropriate Legal Notices, your\n",
            "            work need not make them do so.\n",
            "        \n",
            "          A compilation of a covered work with other separate and independent\n",
            "        works, which are not by their nature extensions of the covered work,\n",
            "        and which are not combined with it such as to form a larger program,\n",
            "        in or on a volume of a storage or distribution medium, is called an\n",
            "        \"aggregate\" if the compilation and its resulting copyright are not\n",
            "        used to limit the access or legal rights of the compilation's users\n",
            "        beyond what the individual works permit.  Inclusion of a covered work\n",
            "        in an aggregate does not cause this License to apply to the other\n",
            "        parts of the aggregate.\n",
            "        \n",
            "          6. Conveying Non-Source Forms.\n",
            "        \n",
            "          You may convey a covered work in object code form under the terms\n",
            "        of sections 4 and 5, provided that you also convey the\n",
            "        machine-readable Corresponding Source under the terms of this License,\n",
            "        in one of these ways:\n",
            "        \n",
            "            a) Convey the object code in, or embodied in, a physical product\n",
            "            (including a physical distribution medium), accompanied by the\n",
            "            Corresponding Source fixed on a durable physical medium\n",
            "            customarily used for software interchange.\n",
            "        \n",
            "            b) Convey the object code in, or embodied in, a physical product\n",
            "            (including a physical distribution medium), accompanied by a\n",
            "            written offer, valid for at least three years and valid for as\n",
            "            long as you offer spare parts or customer support for that product\n",
            "            model, to give anyone who possesses the object code either (1) a\n",
            "            copy of the Corresponding Source for all the software in the\n",
            "            product that is covered by this License, on a durable physical\n",
            "            medium customarily used for software interchange, for a price no\n",
            "            more than your reasonable cost of physically performing this\n",
            "            conveying of source, or (2) access to copy the\n",
            "            Corresponding Source from a network server at no charge.\n",
            "        \n",
            "            c) Convey individual copies of the object code with a copy of the\n",
            "            written offer to provide the Corresponding Source.  This\n",
            "            alternative is allowed only occasionally and noncommercially, and\n",
            "            only if you received the object code with such an offer, in accord\n",
            "            with subsection 6b.\n",
            "        \n",
            "            d) Convey the object code by offering access from a designated\n",
            "            place (gratis or for a charge), and offer equivalent access to the\n",
            "            Corresponding Source in the same way through the same place at no\n",
            "            further charge.  You need not require recipients to copy the\n",
            "            Corresponding Source along with the object code.  If the place to\n",
            "            copy the object code is a network server, the Corresponding Source\n",
            "            may be on a different server (operated by you or a third party)\n",
            "            that supports equivalent copying facilities, provided you maintain\n",
            "            clear directions next to the object code saying where to find the\n",
            "            Corresponding Source.  Regardless of what server hosts the\n",
            "            Corresponding Source, you remain obligated to ensure that it is\n",
            "            available for as long as needed to satisfy these requirements.\n",
            "        \n",
            "            e) Convey the object code using peer-to-peer transmission, provided\n",
            "            you inform other peers where the object code and Corresponding\n",
            "            Source of the work are being offered to the general public at no\n",
            "            charge under subsection 6d.\n",
            "        \n",
            "          A separable portion of the object code, whose source code is excluded\n",
            "        from the Corresponding Source as a System Library, need not be\n",
            "        included in conveying the object code work.\n",
            "        \n",
            "          A \"User Product\" is either (1) a \"consumer product\", which means any\n",
            "        tangible personal property which is normally used for personal, family,\n",
            "        or household purposes, or (2) anything designed or sold for incorporation\n",
            "        into a dwelling.  In determining whether a product is a consumer product,\n",
            "        doubtful cases shall be resolved in favor of coverage.  For a particular\n",
            "        product received by a particular user, \"normally used\" refers to a\n",
            "        typical or common use of that class of product, regardless of the status\n",
            "        of the particular user or of the way in which the particular user\n",
            "        actually uses, or expects or is expected to use, the product.  A product\n",
            "        is a consumer product regardless of whether the product has substantial\n",
            "        commercial, industrial or non-consumer uses, unless such uses represent\n",
            "        the only significant mode of use of the product.\n",
            "        \n",
            "          \"Installation Information\" for a User Product means any methods,\n",
            "        procedures, authorization keys, or other information required to install\n",
            "        and execute modified versions of a covered work in that User Product from\n",
            "        a modified version of its Corresponding Source.  The information must\n",
            "        suffice to ensure that the continued functioning of the modified object\n",
            "        code is in no case prevented or interfered with solely because\n",
            "        modification has been made.\n",
            "        \n",
            "          If you convey an object code work under this section in, or with, or\n",
            "        specifically for use in, a User Product, and the conveying occurs as\n",
            "        part of a transaction in which the right of possession and use of the\n",
            "        User Product is transferred to the recipient in perpetuity or for a\n",
            "        fixed term (regardless of how the transaction is characterized), the\n",
            "        Corresponding Source conveyed under this section must be accompanied\n",
            "        by the Installation Information.  But this requirement does not apply\n",
            "        if neither you nor any third party retains the ability to install\n",
            "        modified object code on the User Product (for example, the work has\n",
            "        been installed in ROM).\n",
            "        \n",
            "          The requirement to provide Installation Information does not include a\n",
            "        requirement to continue to provide support service, warranty, or updates\n",
            "        for a work that has been modified or installed by the recipient, or for\n",
            "        the User Product in which it has been modified or installed.  Access to a\n",
            "        network may be denied when the modification itself materially and\n",
            "        adversely affects the operation of the network or violates the rules and\n",
            "        protocols for communication across the network.\n",
            "        \n",
            "          Corresponding Source conveyed, and Installation Information provided,\n",
            "        in accord with this section must be in a format that is publicly\n",
            "        documented (and with an implementation available to the public in\n",
            "        source code form), and must require no special password or key for\n",
            "        unpacking, reading or copying.\n",
            "        \n",
            "          7. Additional Terms.\n",
            "        \n",
            "          \"Additional permissions\" are terms that supplement the terms of this\n",
            "        License by making exceptions from one or more of its conditions.\n",
            "        Additional permissions that are applicable to the entire Program shall\n",
            "        be treated as though they were included in this License, to the extent\n",
            "        that they are valid under applicable law.  If additional permissions\n",
            "        apply only to part of the Program, that part may be used separately\n",
            "        under those permissions, but the entire Program remains governed by\n",
            "        this License without regard to the additional permissions.\n",
            "        \n",
            "          When you convey a copy of a covered work, you may at your option\n",
            "        remove any additional permissions from that copy, or from any part of\n",
            "        it.  (Additional permissions may be written to require their own\n",
            "        removal in certain cases when you modify the work.)  You may place\n",
            "        additional permissions on material, added by you to a covered work,\n",
            "        for which you have or can give appropriate copyright permission.\n",
            "        \n",
            "          Notwithstanding any other provision of this License, for material you\n",
            "        add to a covered work, you may (if authorized by the copyright holders of\n",
            "        that material) supplement the terms of this License with terms:\n",
            "        \n",
            "            a) Disclaiming warranty or limiting liability differently from the\n",
            "            terms of sections 15 and 16 of this License; or\n",
            "        \n",
            "            b) Requiring preservation of specified reasonable legal notices or\n",
            "            author attributions in that material or in the Appropriate Legal\n",
            "            Notices displayed by works containing it; or\n",
            "        \n",
            "            c) Prohibiting misrepresentation of the origin of that material, or\n",
            "            requiring that modified versions of such material be marked in\n",
            "            reasonable ways as different from the original version; or\n",
            "        \n",
            "            d) Limiting the use for publicity purposes of names of licensors or\n",
            "            authors of the material; or\n",
            "        \n",
            "            e) Declining to grant rights under trademark law for use of some\n",
            "            trade names, trademarks, or service marks; or\n",
            "        \n",
            "            f) Requiring indemnification of licensors and authors of that\n",
            "            material by anyone who conveys the material (or modified versions of\n",
            "            it) with contractual assumptions of liability to the recipient, for\n",
            "            any liability that these contractual assumptions directly impose on\n",
            "            those licensors and authors.\n",
            "        \n",
            "          All other non-permissive additional terms are considered \"further\n",
            "        restrictions\" within the meaning of section 10.  If the Program as you\n",
            "        received it, or any part of it, contains a notice stating that it is\n",
            "        governed by this License along with a term that is a further\n",
            "        restriction, you may remove that term.  If a license document contains\n",
            "        a further restriction but permits relicensing or conveying under this\n",
            "        License, you may add to a covered work material governed by the terms\n",
            "        of that license document, provided that the further restriction does\n",
            "        not survive such relicensing or conveying.\n",
            "        \n",
            "          If you add terms to a covered work in accord with this section, you\n",
            "        must place, in the relevant source files, a statement of the\n",
            "        additional terms that apply to those files, or a notice indicating\n",
            "        where to find the applicable terms.\n",
            "        \n",
            "          Additional terms, permissive or non-permissive, may be stated in the\n",
            "        form of a separately written license, or stated as exceptions;\n",
            "        the above requirements apply either way.\n",
            "        \n",
            "          8. Termination.\n",
            "        \n",
            "          You may not propagate or modify a covered work except as expressly\n",
            "        provided under this License.  Any attempt otherwise to propagate or\n",
            "        modify it is void, and will automatically terminate your rights under\n",
            "        this License (including any patent licenses granted under the third\n",
            "        paragraph of section 11).\n",
            "        \n",
            "          However, if you cease all violation of this License, then your\n",
            "        license from a particular copyright holder is reinstated (a)\n",
            "        provisionally, unless and until the copyright holder explicitly and\n",
            "        finally terminates your license, and (b) permanently, if the copyright\n",
            "        holder fails to notify you of the violation by some reasonable means\n",
            "        prior to 60 days after the cessation.\n",
            "        \n",
            "          Moreover, your license from a particular copyright holder is\n",
            "        reinstated permanently if the copyright holder notifies you of the\n",
            "        violation by some reasonable means, this is the first time you have\n",
            "        received notice of violation of this License (for any work) from that\n",
            "        copyright holder, and you cure the violation prior to 30 days after\n",
            "        your receipt of the notice.\n",
            "        \n",
            "          Termination of your rights under this section does not terminate the\n",
            "        licenses of parties who have received copies or rights from you under\n",
            "        this License.  If your rights have been terminated and not permanently\n",
            "        reinstated, you do not qualify to receive new licenses for the same\n",
            "        material under section 10.\n",
            "        \n",
            "          9. Acceptance Not Required for Having Copies.\n",
            "        \n",
            "          You are not required to accept this License in order to receive or\n",
            "        run a copy of the Program.  Ancillary propagation of a covered work\n",
            "        occurring solely as a consequence of using peer-to-peer transmission\n",
            "        to receive a copy likewise does not require acceptance.  However,\n",
            "        nothing other than this License grants you permission to propagate or\n",
            "        modify any covered work.  These actions infringe copyright if you do\n",
            "        not accept this License.  Therefore, by modifying or propagating a\n",
            "        covered work, you indicate your acceptance of this License to do so.\n",
            "        \n",
            "          10. Automatic Licensing of Downstream Recipients.\n",
            "        \n",
            "          Each time you convey a covered work, the recipient automatically\n",
            "        receives a license from the original licensors, to run, modify and\n",
            "        propagate that work, subject to this License.  You are not responsible\n",
            "        for enforcing compliance by third parties with this License.\n",
            "        \n",
            "          An \"entity transaction\" is a transaction transferring control of an\n",
            "        organization, or substantially all assets of one, or subdividing an\n",
            "        organization, or merging organizations.  If propagation of a covered\n",
            "        work results from an entity transaction, each party to that\n",
            "        transaction who receives a copy of the work also receives whatever\n",
            "        licenses to the work the party's predecessor in interest had or could\n",
            "        give under the previous paragraph, plus a right to possession of the\n",
            "        Corresponding Source of the work from the predecessor in interest, if\n",
            "        the predecessor has it or can get it with reasonable efforts.\n",
            "        \n",
            "          You may not impose any further restrictions on the exercise of the\n",
            "        rights granted or affirmed under this License.  For example, you may\n",
            "        not impose a license fee, royalty, or other charge for exercise of\n",
            "        rights granted under this License, and you may not initiate litigation\n",
            "        (including a cross-claim or counterclaim in a lawsuit) alleging that\n",
            "        any patent claim is infringed by making, using, selling, offering for\n",
            "        sale, or importing the Program or any portion of it.\n",
            "        \n",
            "          11. Patents.\n",
            "        \n",
            "          A \"contributor\" is a copyright holder who authorizes use under this\n",
            "        License of the Program or a work on which the Program is based.  The\n",
            "        work thus licensed is called the contributor's \"contributor version\".\n",
            "        \n",
            "          A contributor's \"essential patent claims\" are all patent claims\n",
            "        owned or controlled by the contributor, whether already acquired or\n",
            "        hereafter acquired, that would be infringed by some manner, permitted\n",
            "        by this License, of making, using, or selling its contributor version,\n",
            "        but do not include claims that would be infringed only as a\n",
            "        consequence of further modification of the contributor version.  For\n",
            "        purposes of this definition, \"control\" includes the right to grant\n",
            "        patent sublicenses in a manner consistent with the requirements of\n",
            "        this License.\n",
            "        \n",
            "          Each contributor grants you a non-exclusive, worldwide, royalty-free\n",
            "        patent license under the contributor's essential patent claims, to\n",
            "        make, use, sell, offer for sale, import and otherwise run, modify and\n",
            "        propagate the contents of its contributor version.\n",
            "        \n",
            "          In the following three paragraphs, a \"patent license\" is any express\n",
            "        agreement or commitment, however denominated, not to enforce a patent\n",
            "        (such as an express permission to practice a patent or covenant not to\n",
            "        sue for patent infringement).  To \"grant\" such a patent license to a\n",
            "        party means to make such an agreement or commitment not to enforce a\n",
            "        patent against the party.\n",
            "        \n",
            "          If you convey a covered work, knowingly relying on a patent license,\n",
            "        and the Corresponding Source of the work is not available for anyone\n",
            "        to copy, free of charge and under the terms of this License, through a\n",
            "        publicly available network server or other readily accessible means,\n",
            "        then you must either (1) cause the Corresponding Source to be so\n",
            "        available, or (2) arrange to deprive yourself of the benefit of the\n",
            "        patent license for this particular work, or (3) arrange, in a manner\n",
            "        consistent with the requirements of this License, to extend the patent\n",
            "        license to downstream recipients.  \"Knowingly relying\" means you have\n",
            "        actual knowledge that, but for the patent license, your conveying the\n",
            "        covered work in a country, or your recipient's use of the covered work\n",
            "        in a country, would infringe one or more identifiable patents in that\n",
            "        country that you have reason to believe are valid.\n",
            "        \n",
            "          If, pursuant to or in connection with a single transaction or\n",
            "        arrangement, you convey, or propagate by procuring conveyance of, a\n",
            "        covered work, and grant a patent license to some of the parties\n",
            "        receiving the covered work authorizing them to use, propagate, modify\n",
            "        or convey a specific copy of the covered work, then the patent license\n",
            "        you grant is automatically extended to all recipients of the covered\n",
            "        work and works based on it.\n",
            "        \n",
            "          A patent license is \"discriminatory\" if it does not include within\n",
            "        the scope of its coverage, prohibits the exercise of, or is\n",
            "        conditioned on the non-exercise of one or more of the rights that are\n",
            "        specifically granted under this License.  You may not convey a covered\n",
            "        work if you are a party to an arrangement with a third party that is\n",
            "        in the business of distributing software, under which you make payment\n",
            "        to the third party based on the extent of your activity of conveying\n",
            "        the work, and under which the third party grants, to any of the\n",
            "        parties who would receive the covered work from you, a discriminatory\n",
            "        patent license (a) in connection with copies of the covered work\n",
            "        conveyed by you (or copies made from those copies), or (b) primarily\n",
            "        for and in connection with specific products or compilations that\n",
            "        contain the covered work, unless you entered into that arrangement,\n",
            "        or that patent license was granted, prior to 28 March 2007.\n",
            "        \n",
            "          Nothing in this License shall be construed as excluding or limiting\n",
            "        any implied license or other defenses to infringement that may\n",
            "        otherwise be available to you under applicable patent law.\n",
            "        \n",
            "          12. No Surrender of Others' Freedom.\n",
            "        \n",
            "          If conditions are imposed on you (whether by court order, agreement or\n",
            "        otherwise) that contradict the conditions of this License, they do not\n",
            "        excuse you from the conditions of this License.  If you cannot convey a\n",
            "        covered work so as to satisfy simultaneously your obligations under this\n",
            "        License and any other pertinent obligations, then as a consequence you may\n",
            "        not convey it at all.  For example, if you agree to terms that obligate you\n",
            "        to collect a royalty for further conveying from those to whom you convey\n",
            "        the Program, the only way you could satisfy both those terms and this\n",
            "        License would be to refrain entirely from conveying the Program.\n",
            "        \n",
            "          13. Use with the GNU Affero General Public License.\n",
            "        \n",
            "          Notwithstanding any other provision of this License, you have\n",
            "        permission to link or combine any covered work with a work licensed\n",
            "        under version 3 of the GNU Affero General Public License into a single\n",
            "        combined work, and to convey the resulting work.  The terms of this\n",
            "        License will continue to apply to the part which is the covered work,\n",
            "        but the special requirements of the GNU Affero General Public License,\n",
            "        section 13, concerning interaction through a network will apply to the\n",
            "        combination as such.\n",
            "        \n",
            "          14. Revised Versions of this License.\n",
            "        \n",
            "          The Free Software Foundation may publish revised and/or new versions of\n",
            "        the GNU General Public License from time to time.  Such new versions will\n",
            "        be similar in spirit to the present version, but may differ in detail to\n",
            "        address new problems or concerns.\n",
            "        \n",
            "          Each version is given a distinguishing version number.  If the\n",
            "        Program specifies that a certain numbered version of the GNU General\n",
            "        Public License \"or any later version\" applies to it, you have the\n",
            "        option of following the terms and conditions either of that numbered\n",
            "        version or of any later version published by the Free Software\n",
            "        Foundation.  If the Program does not specify a version number of the\n",
            "        GNU General Public License, you may choose any version ever published\n",
            "        by the Free Software Foundation.\n",
            "        \n",
            "          If the Program specifies that a proxy can decide which future\n",
            "        versions of the GNU General Public License can be used, that proxy's\n",
            "        public statement of acceptance of a version permanently authorizes you\n",
            "        to choose that version for the Program.\n",
            "        \n",
            "          Later license versions may give you additional or different\n",
            "        permissions.  However, no additional obligations are imposed on any\n",
            "        author or copyright holder as a result of your choosing to follow a\n",
            "        later version.\n",
            "        \n",
            "          15. Disclaimer of Warranty.\n",
            "        \n",
            "          THERE IS NO WARRANTY FOR THE PROGRAM, TO THE EXTENT PERMITTED BY\n",
            "        APPLICABLE LAW.  EXCEPT WHEN OTHERWISE STATED IN WRITING THE COPYRIGHT\n",
            "        HOLDERS AND/OR OTHER PARTIES PROVIDE THE PROGRAM \"AS IS\" WITHOUT WARRANTY\n",
            "        OF ANY KIND, EITHER EXPRESSED OR IMPLIED, INCLUDING, BUT NOT LIMITED TO,\n",
            "        THE IMPLIED WARRANTIES OF MERCHANTABILITY AND FITNESS FOR A PARTICULAR\n",
            "        PURPOSE.  THE ENTIRE RISK AS TO THE QUALITY AND PERFORMANCE OF THE PROGRAM\n",
            "        IS WITH YOU.  SHOULD THE PROGRAM PROVE DEFECTIVE, YOU ASSUME THE COST OF\n",
            "        ALL NECESSARY SERVICING, REPAIR OR CORRECTION.\n",
            "        \n",
            "          16. Limitation of Liability.\n",
            "        \n",
            "          IN NO EVENT UNLESS REQUIRED BY APPLICABLE LAW OR AGREED TO IN WRITING\n",
            "        WILL ANY COPYRIGHT HOLDER, OR ANY OTHER PARTY WHO MODIFIES AND/OR CONVEYS\n",
            "        THE PROGRAM AS PERMITTED ABOVE, BE LIABLE TO YOU FOR DAMAGES, INCLUDING ANY\n",
            "        GENERAL, SPECIAL, INCIDENTAL OR CONSEQUENTIAL DAMAGES ARISING OUT OF THE\n",
            "        USE OR INABILITY TO USE THE PROGRAM (INCLUDING BUT NOT LIMITED TO LOSS OF\n",
            "        DATA OR DATA BEING RENDERED INACCURATE OR LOSSES SUSTAINED BY YOU OR THIRD\n",
            "        PARTIES OR A FAILURE OF THE PROGRAM TO OPERATE WITH ANY OTHER PROGRAMS),\n",
            "        EVEN IF SUCH HOLDER OR OTHER PARTY HAS BEEN ADVISED OF THE POSSIBILITY OF\n",
            "        SUCH DAMAGES.\n",
            "        \n",
            "          17. Interpretation of Sections 15 and 16.\n",
            "        \n",
            "          If the disclaimer of warranty and limitation of liability provided\n",
            "        above cannot be given local legal effect according to their terms,\n",
            "        reviewing courts shall apply local law that most closely approximates\n",
            "        an absolute waiver of all civil liability in connection with the\n",
            "        Program, unless a warranty or assumption of liability accompanies a\n",
            "        copy of the Program in return for a fee.\n",
            "        \n",
            "                             END OF TERMS AND CONDITIONS\n",
            "        \n",
            "                    How to Apply These Terms to Your New Programs\n",
            "        \n",
            "          If you develop a new program, and you want it to be of the greatest\n",
            "        possible use to the public, the best way to achieve this is to make it\n",
            "        free software which everyone can redistribute and change under these terms.\n",
            "        \n",
            "          To do so, attach the following notices to the program.  It is safest\n",
            "        to attach them to the start of each source file to most effectively\n",
            "        state the exclusion of warranty; and each file should have at least\n",
            "        the \"copyright\" line and a pointer to where the full notice is found.\n",
            "        \n",
            "            <one line to give the program's name and a brief idea of what it does.>\n",
            "            Copyright (C) <year>  <name of author>\n",
            "        \n",
            "            This program is free software: you can redistribute it and/or modify\n",
            "            it under the terms of the GNU General Public License as published by\n",
            "            the Free Software Foundation, either version 3 of the License, or\n",
            "            (at your option) any later version.\n",
            "        \n",
            "            This program is distributed in the hope that it will be useful,\n",
            "            but WITHOUT ANY WARRANTY; without even the implied warranty of\n",
            "            MERCHANTABILITY or FITNESS FOR A PARTICULAR PURPOSE.  See the\n",
            "            GNU General Public License for more details.\n",
            "        \n",
            "            You should have received a copy of the GNU General Public License\n",
            "            along with this program.  If not, see <http://www.gnu.org/licenses/>.\n",
            "        \n",
            "        Also add information on how to contact you by electronic and paper mail.\n",
            "        \n",
            "          If the program does terminal interaction, make it output a short\n",
            "        notice like this when it starts in an interactive mode:\n",
            "        \n",
            "            <program>  Copyright (C) <year>  <name of author>\n",
            "            This program comes with ABSOLUTELY NO WARRANTY; for details type `show w'.\n",
            "            This is free software, and you are welcome to redistribute it\n",
            "            under certain conditions; type `show c' for details.\n",
            "        \n",
            "        The hypothetical commands `show w' and `show c' should show the appropriate\n",
            "        parts of the General Public License.  Of course, your program's commands\n",
            "        might be different; for a GUI interface, you would use an \"about box\".\n",
            "        \n",
            "          You should also get your employer (if you work as a programmer) or school,\n",
            "        if any, to sign a \"copyright disclaimer\" for the program, if necessary.\n",
            "        For more information on this, and how to apply and follow the GNU GPL, see\n",
            "        <http://www.gnu.org/licenses/>.\n",
            "        \n",
            "          The GNU General Public License does not permit incorporating your program\n",
            "        into proprietary programs.  If your program is a subroutine library, you\n",
            "        may consider it more useful to permit linking proprietary applications with\n",
            "        the library.  If this is what you want to do, use the GNU Lesser General\n",
            "        Public License instead of this License.  But first, please read\n",
            "        <http://www.gnu.org/philosophy/why-not-lgpl.html>.\n",
            "        \n",
            "        Name: libquadmath\n",
            "        Files: numpy.libs/libquadmath*.so\n",
            "        Description: dynamically linked to files compiled with gcc\n",
            "        Availability: https://gcc.gnu.org/git/?p=gcc.git;a=tree;f=libquadmath\n",
            "        License: LGPL-2.1-or-later\n",
            "        \n",
            "            GCC Quad-Precision Math Library\n",
            "            Copyright (C) 2010-2019 Free Software Foundation, Inc.\n",
            "            Written by Francois-Xavier Coudert  <fxcoudert@gcc.gnu.org>\n",
            "        \n",
            "            This file is part of the libquadmath library.\n",
            "            Libquadmath is free software; you can redistribute it and/or\n",
            "            modify it under the terms of the GNU Library General Public\n",
            "            License as published by the Free Software Foundation; either\n",
            "            version 2.1 of the License, or (at your option) any later version.\n",
            "        \n",
            "            Libquadmath is distributed in the hope that it will be useful,\n",
            "            but WITHOUT ANY WARRANTY; without even the implied warranty of\n",
            "            MERCHANTABILITY or FITNESS FOR A PARTICULAR PURPOSE.  See the GNU\n",
            "            Lesser General Public License for more details.\n",
            "            https://www.gnu.org/licenses/old-licenses/lgpl-2.1.html\n",
            "Location: /usr/local/lib/python3.10/dist-packages\n",
            "Requires: \n",
            "Required-by: accelerate, albucore, albumentations, altair, arviz, astropy, autograd, bigframes, blis, bokeh, Bottleneck, bqplot, chex, clarabel, cmdstanpy, contourpy, cudf-cu12, cufflinks, cupy-cuda12x, cvxpy, datascience, db-dtypes, dopamine_rl, ecos, flax, folium, geemap, gensim, geopandas, gym, h5py, holoviews, hyperopt, ibis-framework, imageio, imbalanced-learn, imgaug, jax, jaxlib, keras, librosa, lightgbm, matplotlib, matplotlib-venn, mizani, ml-dtypes, mlxtend, moviepy, music21, nibabel, numba, numexpr, opencv-contrib-python, opencv-python, opencv-python-headless, optax, orbax-checkpoint, osqp, pandas, pandas-gbq, pandas-stubs, patsy, plotnine, prophet, pyarrow, pycocotools, pyerfa, pymc, pyogrio, pytensor, python-louvain, qdldl, rmm-cu12, scikit-image, scikit-learn, scipy, scs, seaborn, shapely, sklearn-pandas, soxr, spacy, stanio, statsmodels, tables, tensorboard, tensorflow, tensorflow-datasets, tensorflow-hub, tensorflow-probability, tensorstore, thinc, tifffile, torchvision, transformers, wordcloud, xarray, xarray-einstats, xgboost, yellowbrick, yfinance\n"
          ]
        }
      ],
      "source": [
        "pip show numpy"
      ]
    },
    {
      "cell_type": "markdown",
      "metadata": {
        "id": "KSNOrnoMHEjD"
      },
      "source": [
        "### 파이썬 오류 확인"
      ]
    },
    {
      "cell_type": "code",
      "execution_count": null,
      "metadata": {
        "id": "B8pmiTi5G8JX",
        "colab": {
          "base_uri": "https://localhost:8080/",
          "height": 112
        },
        "outputId": "28e2d0e4-e116-4df2-f76d-678d0dcc9296"
      },
      "outputs": [
        {
          "output_type": "error",
          "ename": "SyntaxError",
          "evalue": "expected ':' (<ipython-input-10-9f6aef7645e2>, line 3)",
          "traceback": [
            "\u001b[0;36m  File \u001b[0;32m\"<ipython-input-10-9f6aef7645e2>\"\u001b[0;36m, line \u001b[0;32m3\u001b[0m\n\u001b[0;31m    if a < 9\u001b[0m\n\u001b[0m            ^\u001b[0m\n\u001b[0;31mSyntaxError\u001b[0m\u001b[0;31m:\u001b[0m expected ':'\n"
          ]
        }
      ],
      "source": [
        "# Syntax 오류 발생 예\n",
        "a = 1\n",
        "if a < 9\n",
        "    print('a < 9')"
      ]
    },
    {
      "cell_type": "code",
      "source": [
        "a = 1\n",
        "if a < 9:\n",
        "    print('a < 9')"
      ],
      "metadata": {
        "colab": {
          "base_uri": "https://localhost:8080/"
        },
        "id": "ZCpZ8jy72hT-",
        "outputId": "08f5fbfe-ee37-4361-ebbd-d5e5d188f8ed"
      },
      "execution_count": null,
      "outputs": [
        {
          "output_type": "stream",
          "name": "stdout",
          "text": [
            "a < 9\n"
          ]
        }
      ]
    },
    {
      "cell_type": "markdown",
      "source": [
        "### 파이썬 예외처리 방법"
      ],
      "metadata": {
        "id": "DJQhC7btE_L5"
      }
    },
    {
      "cell_type": "code",
      "execution_count": null,
      "metadata": {
        "id": "GJ1Y-0wMHXJd"
      },
      "outputs": [],
      "source": [
        "# 오류 예외처리\n",
        "while True:\n",
        "    try:\n",
        "        x = int(input('Please enter a number: '))\n",
        "        break\n",
        "\n",
        "    except ValueError:\n",
        "        print('Oops! That was no valid number. Try again...')\n",
        "\n",
        "print('-----')"
      ]
    },
    {
      "cell_type": "markdown",
      "metadata": {
        "id": "6Ef7gKpD8GGP"
      },
      "source": [
        "### [PC에서만 실행] 수업에 사용할 라이브러리 설치하기\n",
        "- PC 윈도우 명령프롬프트에서 실행한다. 코랩에서는 실행 안함\n",
        "- PC에서는 명령어 맨 앞 '!'를 제거하고 실행한다."
      ]
    },
    {
      "cell_type": "code",
      "source": [
        "!python -m pip install --upgrade pip"
      ],
      "metadata": {
        "id": "ViukrDAGDuPc"
      },
      "execution_count": null,
      "outputs": []
    },
    {
      "cell_type": "code",
      "execution_count": null,
      "metadata": {
        "id": "WnEwfA_x8GGQ"
      },
      "outputs": [],
      "source": [
        "!pip install numpy"
      ]
    },
    {
      "cell_type": "code",
      "execution_count": null,
      "metadata": {
        "id": "ZqJSQDet8GGQ"
      },
      "outputs": [],
      "source": [
        "!pip install pandas"
      ]
    },
    {
      "cell_type": "code",
      "execution_count": null,
      "metadata": {
        "id": "JtYjHD2D8GGQ"
      },
      "outputs": [],
      "source": [
        "!pip install matplotlib"
      ]
    },
    {
      "cell_type": "code",
      "execution_count": null,
      "metadata": {
        "id": "BRSzhspAC6J8"
      },
      "outputs": [],
      "source": [
        "!pip install seaborn"
      ]
    },
    {
      "cell_type": "code",
      "execution_count": null,
      "metadata": {
        "id": "8spH-HIwC6Sz"
      },
      "outputs": [],
      "source": [
        "!pip install ploty"
      ]
    },
    {
      "cell_type": "markdown",
      "metadata": {
        "id": "wl2PYxtB8GGR"
      },
      "source": [
        "----------"
      ]
    },
    {
      "cell_type": "markdown",
      "metadata": {
        "id": "T20_kqnwDKe2"
      },
      "source": [
        "## 2.파이썬 자료형과 연산자"
      ]
    },
    {
      "cell_type": "markdown",
      "source": [
        "### **[자료형]**"
      ],
      "metadata": {
        "id": "rxo68HToTgT0"
      }
    },
    {
      "cell_type": "markdown",
      "metadata": {
        "id": "GPQdotYg8GGR"
      },
      "source": [
        "### 파이썬 자료형 확인"
      ]
    },
    {
      "cell_type": "code",
      "execution_count": null,
      "metadata": {
        "id": "re9ioSIM8GGR",
        "colab": {
          "base_uri": "https://localhost:8080/"
        },
        "outputId": "f5a7a0ee-37c2-41b2-b45b-45e541f22779"
      },
      "outputs": [
        {
          "output_type": "stream",
          "name": "stdout",
          "text": [
            "123의 자료형: <class 'int'>\n",
            "123의 자료형: <class 'str'>\n",
            "[123]의 자료형: <class 'list'>\n",
            "(123,)의 자료형: <class 'tuple'>\n",
            "{'key': 123}의 자료형: <class 'dict'>\n",
            "{123}의 자료형: <class 'set'>\n",
            "True의 자료형: <class 'bool'>\n"
          ]
        }
      ],
      "source": [
        "d1 = 123\n",
        "d2 = '123'\n",
        "d3 = [123]\n",
        "d4 = (123,)\n",
        "d5 = {'key':123}\n",
        "d6 = {123}\n",
        "d7 = True\n",
        "\n",
        "print(f'{d1}의 자료형: {type(d1)}')\n",
        "print(f'{d2}의 자료형: {type(d2)}')\n",
        "print(f'{d3}의 자료형: {type(d3)}')\n",
        "print(f'{d4}의 자료형: {type(d4)}')\n",
        "print(f'{d5}의 자료형: {type(d5)}')\n",
        "print(f'{d6}의 자료형: {type(d6)}')\n",
        "print(f'{d7}의 자료형: {type(d7)}')"
      ]
    },
    {
      "cell_type": "markdown",
      "source": [
        "### [실습문제] 반복문을 이용하여 자료형 출력하기\n",
        "위 자료형을 아래 미션에 맞게 출력해 보세요."
      ],
      "metadata": {
        "id": "H7bSljnRIERc"
      }
    },
    {
      "cell_type": "code",
      "execution_count": null,
      "metadata": {
        "id": "gbzIvlUi8GGR",
        "scrolled": true,
        "colab": {
          "base_uri": "https://localhost:8080/"
        },
        "outputId": "4cec4a03-4550-4f92-bfaf-c4fb550674e6"
      },
      "outputs": [
        {
          "output_type": "stream",
          "name": "stdout",
          "text": [
            "<class 'list'>\n",
            "데이터:123의 자료형은:, <class 'int'>\n",
            "데이터:123의 자료형은:, <class 'str'>\n",
            "데이터:[123]의 자료형은:, <class 'list'>\n",
            "데이터:(123,)의 자료형은:, <class 'tuple'>\n",
            "데이터:{'key': 123}의 자료형은:, <class 'dict'>\n",
            "데이터:{123}의 자료형은:, <class 'set'>\n",
            "데이터:True의 자료형은:, <class 'bool'>\n"
          ]
        }
      ],
      "source": [
        "# [미션] 리스트와 반복문을 이용하여 간단하게 나타내기\n",
        "datas = [123,'123',[123],(123,),{'key':123},{123},True]\n",
        "print(type(datas))\n",
        "for data in datas:\n",
        "  print(f'데이터:{data}의 자료형은:, {type(data)}')"
      ]
    },
    {
      "cell_type": "code",
      "source": [
        "if isinstance(123, str):\n",
        "  print('123은 정수')\n",
        "else :\n",
        "  print('123은 정수가 아니야')"
      ],
      "metadata": {
        "colab": {
          "base_uri": "https://localhost:8080/"
        },
        "id": "IJur94OJ-Ez4",
        "outputId": "6251b58c-90a3-4587-982f-f87d7509328a"
      },
      "execution_count": null,
      "outputs": [
        {
          "output_type": "stream",
          "name": "stdout",
          "text": [
            "123은 정수가 아니야\n"
          ]
        }
      ]
    },
    {
      "cell_type": "code",
      "source": [
        "# [미션] isinstance()함수를 이용하여 데이터 타입 확인\n",
        "def get_datatype(data):\n",
        "    instance= {int:'정수', float:'실수', str:'문자열', bool:'불린',\n",
        "           list:'리스트', tuple:'튜플', dict:'딕셔너리', set:'집합' }\n",
        "    for key, value in instance.items():\n",
        "        if isinstance(data, key):\n",
        "            print(f'{data}는 {value} 형입니다.')\n",
        "\n",
        "for data in datas:\n",
        "    get_datatype(data)"
      ],
      "metadata": {
        "id": "PMDfoepfF7K4"
      },
      "execution_count": null,
      "outputs": []
    },
    {
      "cell_type": "markdown",
      "source": [
        "### [표준입출력]"
      ],
      "metadata": {
        "id": "Qv7p8JOYJdMf"
      }
    },
    {
      "cell_type": "markdown",
      "metadata": {
        "id": "EDFiaZyv8GGR"
      },
      "source": [
        "### 실습문제\n",
        "두 수를 입력 받아 덧셈, 뺄셈, 곱셈, 몫, 나머지를 출력하는 프로그램을 작성하세요\n"
      ]
    },
    {
      "cell_type": "code",
      "execution_count": null,
      "metadata": {
        "id": "a9sG7Q738GGS",
        "scrolled": true,
        "colab": {
          "base_uri": "https://localhost:8080/"
        },
        "outputId": "60a0c019-f875-4766-bb7b-1576c4c9511c"
      },
      "outputs": [
        {
          "output_type": "stream",
          "name": "stdout",
          "text": [
            "첫번째 숫자: 50\n",
            "두번째 숫자: 3\n",
            "------------------------------\n",
            "덧셈:50+3=53\n",
            "뺄셈:50-3=47\n",
            "곱셈:50*3=150\n",
            "몫:50//3=16\n",
            "나누셈:50/3=16.666666666666668\n",
            "나머지:50%3=2\n"
          ]
        }
      ],
      "source": [
        "num1 = input('첫번째 숫자: ')\n",
        "num2 = input('두번째 숫자: ')\n",
        "print('-'*30)\n",
        "print(f'덧셈:{int(num1)}+{int(num2)}={int(num1)+int(num2)}')\n",
        "print(f'뺄셈:{int(num1)}-{int(num2)}={int(num1)-int(num2)}')\n",
        "print(f'곱셈:{int(num1)}*{int(num2)}={int(num1)*int(num2)}')\n",
        "print(f'몫:{int(num1)}//{int(num2)}={int(num1)//int(num2)}')\n",
        "print(f'나누셈:{int(num1)}/{int(num2)}={int(num1)/int(num2)}')\n",
        "print(f'나머지:{int(num1)}%{int(num2)}={int(num1)%int(num2)}')\n",
        "\n",
        "\n",
        "\n"
      ]
    },
    {
      "cell_type": "markdown",
      "metadata": {
        "id": "LqAbyRHs8GGS"
      },
      "source": [
        "### 실습문제: 시간 계산 프로그램\n",
        "속력과 거리를 입력 받아 시간을 계산하여 출력하는 프로그램을 만드세요!\n",
        "- 시간 = 거리 / 속력\n",
        "\n"
      ]
    },
    {
      "cell_type": "code",
      "execution_count": null,
      "metadata": {
        "id": "YwepfYt98GGS"
      },
      "outputs": [],
      "source": [
        "velocity = input('속력를 입력해 주세요(km/h) : ')\n",
        "distance = input('거리를 입력해 주세요(km) : ')\n",
        "\n"
      ]
    },
    {
      "cell_type": "markdown",
      "metadata": {
        "id": "sHIxGA0xLj0C"
      },
      "source": [
        "- eval()함수 사용하여 문자열을 계산할 수 있다"
      ]
    },
    {
      "cell_type": "code",
      "execution_count": null,
      "metadata": {
        "id": "gvVxuLjX8GGS",
        "colab": {
          "base_uri": "https://localhost:8080/",
          "height": 112
        },
        "outputId": "6929a4db-dd2f-4dc9-b8cb-5bd600d359b2"
      },
      "outputs": [
        {
          "output_type": "error",
          "ename": "SyntaxError",
          "evalue": "closing parenthesis '}' does not match opening parenthesis '(' (<ipython-input-44-5b80dd04971a>, line 2)",
          "traceback": [
            "\u001b[0;36m  File \u001b[0;32m\"<ipython-input-44-5b80dd04971a>\"\u001b[0;36m, line \u001b[0;32m2\u001b[0m\n\u001b[0;31m    time = eval(distance}+ '/' + velocity)\u001b[0m\n\u001b[0m                        ^\u001b[0m\n\u001b[0;31mSyntaxError\u001b[0m\u001b[0;31m:\u001b[0m closing parenthesis '}' does not match opening parenthesis '('\n"
          ]
        }
      ],
      "source": [
        "# eval()함수 사용\n",
        "\n",
        "\n",
        "time = eval(distance}+ '/' + velocity)\n",
        "print(time)"
      ]
    },
    {
      "cell_type": "markdown",
      "metadata": {
        "id": "tECEWKan8GGS"
      },
      "source": [
        "### 실습문제 : 정수 합 구하기\n",
        "아래와 같이 정수 n을 입력 받아, a + aa + aaa의 결과 값을 구하는 프로그램을 작성하세요"
      ]
    },
    {
      "cell_type": "code",
      "execution_count": null,
      "metadata": {
        "id": "a04GPnn98GGS",
        "scrolled": true,
        "colab": {
          "base_uri": "https://localhost:8080/"
        },
        "outputId": "bb1ac24f-6e0c-4885-e485-946f7ca7b086"
      },
      "outputs": [
        {
          "output_type": "stream",
          "name": "stdout",
          "text": [
            "정수를 입력하세요: 7\n",
            "정수를 입력하세요: 7\n",
            "7 + 77 + 777 = 861\n"
          ]
        }
      ],
      "source": [
        "a = input('정수를 입력하세요: ')\n",
        "\n",
        "a = a\n",
        "aa = a * 2\n",
        "aaa = a * 3\n",
        "\n",
        "print(f'{a} + {aa} + {aaa} = {int(a) + int(aa) + int(aaa)}')\n",
        "\n"
      ]
    },
    {
      "cell_type": "markdown",
      "source": [
        "### [문자와 문자열]"
      ],
      "metadata": {
        "id": "SHkqIiXbJXrR"
      }
    },
    {
      "cell_type": "markdown",
      "source": [
        "### 실습문제 : 문자열 거꾸로 출력하기"
      ],
      "metadata": {
        "id": "kc4LrgAHJw4f"
      }
    },
    {
      "cell_type": "code",
      "source": [
        "s = input('문자열 입력:')\n",
        "print(s)\n"
      ],
      "metadata": {
        "id": "_QpSs-GCJvyH",
        "colab": {
          "base_uri": "https://localhost:8080/"
        },
        "outputId": "a81ea6fa-1d6e-49c0-f8f3-9fdd6c3a9c02"
      },
      "execution_count": null,
      "outputs": [
        {
          "output_type": "stream",
          "name": "stdout",
          "text": [
            "문자열 입력:안녕하세요!\n",
            "안녕하세요!\n"
          ]
        }
      ]
    },
    {
      "cell_type": "code",
      "source": [
        "s = input('문자열 입력:')\n",
        "print(s'[::-1])  #[start:end:step] start<=index"
      ],
      "metadata": {
        "colab": {
          "base_uri": "https://localhost:8080/"
        },
        "id": "O7Bw0haUV8cC",
        "outputId": "43fe336f-bfcd-4b9a-ef8d-1173770a41c0"
      },
      "execution_count": null,
      "outputs": [
        {
          "output_type": "stream",
          "name": "stdout",
          "text": [
            "문자열 입력:안녕하세요\n",
            "요세하녕안\n"
          ]
        }
      ]
    },
    {
      "cell_type": "markdown",
      "source": [
        "### 실습문제: 간단 챗봇 만들기\n"
      ],
      "metadata": {
        "id": "t1KHQyvnJrj3"
      }
    },
    {
      "cell_type": "code",
      "source": [
        "# 간단한 패턴이 있는 챗봇 만들기\n",
        "print('안녕하세요~')\n",
        "name = input('당신의 이름은 뭐예요?: ')\n",
        "print(f'만나서 반갑습니다. {name}님')\n",
        "print(f'{name}님의 이름의 길이는 다음과 같습니다. {len(name)}')\n",
        "age = input(f'{name}님의 나이는 어떻게 되나요?')\n",
        "print(f'내년에는 {int(age)+1}세가 되시는군요!')"
      ],
      "metadata": {
        "id": "Fg-QYkDPJr14",
        "colab": {
          "base_uri": "https://localhost:8080/"
        },
        "outputId": "af04603c-b1e1-4b62-f50a-3876c7c717fd"
      },
      "execution_count": null,
      "outputs": [
        {
          "output_type": "stream",
          "name": "stdout",
          "text": [
            "안녕하세요~\n",
            "당신의 이름은 뭐예요?: 아이유\n",
            "만나서 반갑습니다. 아이유님\n",
            "아이유님의 이름의 길이는 다음과 같습니다. 3\n",
            "아이유님의 나이는 어떻게 되나요?30\n",
            "내년에는 31세가 되시는군요!\n"
          ]
        }
      ]
    },
    {
      "cell_type": "markdown",
      "metadata": {
        "id": "Hb6l5EjLQB2m"
      },
      "source": [
        "### 실습문제 :  구글TTS(gTTS) 사용하여 음성 출력하기\n",
        "TTS : Text to Speech"
      ]
    },
    {
      "cell_type": "markdown",
      "source": [],
      "metadata": {
        "id": "MKZzJ2iCMu9b"
      }
    },
    {
      "cell_type": "code",
      "execution_count": null,
      "metadata": {
        "id": "-eY--f6MPwTf",
        "colab": {
          "base_uri": "https://localhost:8080/"
        },
        "outputId": "0204b64a-40df-4261-b3b4-988131ade181"
      },
      "outputs": [
        {
          "output_type": "stream",
          "name": "stdout",
          "text": [
            "Collecting gTTS\n",
            "  Downloading gTTS-2.5.3-py3-none-any.whl.metadata (4.1 kB)\n",
            "Requirement already satisfied: requests<3,>=2.27 in /usr/local/lib/python3.10/dist-packages (from gTTS) (2.32.3)\n",
            "Requirement already satisfied: click<8.2,>=7.1 in /usr/local/lib/python3.10/dist-packages (from gTTS) (8.1.7)\n",
            "Requirement already satisfied: charset-normalizer<4,>=2 in /usr/local/lib/python3.10/dist-packages (from requests<3,>=2.27->gTTS) (3.3.2)\n",
            "Requirement already satisfied: idna<4,>=2.5 in /usr/local/lib/python3.10/dist-packages (from requests<3,>=2.27->gTTS) (3.10)\n",
            "Requirement already satisfied: urllib3<3,>=1.21.1 in /usr/local/lib/python3.10/dist-packages (from requests<3,>=2.27->gTTS) (2.2.3)\n",
            "Requirement already satisfied: certifi>=2017.4.17 in /usr/local/lib/python3.10/dist-packages (from requests<3,>=2.27->gTTS) (2024.8.30)\n",
            "Downloading gTTS-2.5.3-py3-none-any.whl (29 kB)\n",
            "Installing collected packages: gTTS\n",
            "Successfully installed gTTS-2.5.3\n"
          ]
        }
      ],
      "source": [
        "# 구글 tts 프로그램\n",
        "!pip install gTTS"
      ]
    },
    {
      "cell_type": "code",
      "execution_count": null,
      "metadata": {
        "id": "O_xqpl0pPx6k",
        "colab": {
          "base_uri": "https://localhost:8080/",
          "height": 74
        },
        "outputId": "98115625-e22e-4e38-9751-52e8e190092f"
      },
      "outputs": [
        {
          "output_type": "display_data",
          "data": {
            "text/plain": [
              "<IPython.lib.display.Audio object>"
            ],
            "text/html": [
              "\n",
              "                <audio  controls=\"controls\" autoplay=\"autoplay\">\n",
              "                    <source src=\"data:audio/mpeg;base64,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\" type=\"audio/mpeg\" />\n",
              "                    Your browser does not support the audio element.\n",
              "                </audio>\n",
              "              "
            ]
          },
          "metadata": {}
        }
      ],
      "source": [
        "# 영어 출력\n",
        "from gtts import gTTS\n",
        "from IPython.display import Audio\n",
        "\n",
        "eng_wav = gTTS('Hello World!')\n",
        "eng_wav.save('eng.mp3')\n",
        "\n",
        "display(Audio('eng.mp3', autoplay=True))"
      ]
    },
    {
      "cell_type": "code",
      "execution_count": null,
      "metadata": {
        "id": "inyZATWlP3Cp",
        "colab": {
          "base_uri": "https://localhost:8080/",
          "height": 74
        },
        "outputId": "4b6262f8-062c-42ac-9bcf-3b283bd5f8b8"
      },
      "outputs": [
        {
          "output_type": "display_data",
          "data": {
            "text/plain": [
              "<IPython.lib.display.Audio object>"
            ],
            "text/html": [
              "\n",
              "                <audio  controls=\"controls\" autoplay=\"autoplay\">\n",
              "                    <source src=\"data:audio/x-wav;base64,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\" type=\"audio/x-wav\" />\n",
              "                    Your browser does not support the audio element.\n",
              "                </audio>\n",
              "              "
            ]
          },
          "metadata": {}
        }
      ],
      "source": [
        "# 한글 출력\n",
        "from gtts import gTTS\n",
        "from IPython.display import Audio\n",
        "\n",
        "kor_wav = gTTS('안녕하세요! ', lang = 'ko')\n",
        "kor_wav.save('kor.wav')\n",
        "\n",
        "display(Audio('kor.wav', autoplay=True))"
      ]
    },
    {
      "cell_type": "code",
      "source": [
        "from gtts import gTTS\n",
        "from IPython.display import Audio, display\n",
        "import os\n",
        "import time\n",
        "\n",
        "def text_to_speech_from_file(filename):\n",
        "    with open(filename, 'r', encoding='utf-8') as file:\n",
        "        for index, line in enumerate(file):\n",
        "            line = line.strip()\n",
        "            if line:  # 빈 줄은 건너뜀\n",
        "                # 텍스트를 음성으로 변환\n",
        "                tts = gTTS(text=line, lang='ko')\n",
        "                audio_file = f\"temp_audio_{index}.mp3\"\n",
        "\n",
        "                # 음성 파일 저장\n",
        "                tts.save(audio_file)\n",
        "\n",
        "                # 음성 파일을 재생 (IPython.display.Audio 사용)\n",
        "                display(Audio(audio_file, autoplay=True))\n",
        "\n",
        "                # 음성이 끝날 때까지 잠시 대기\n",
        "                if len(line) > 12:\n",
        "                  time_sleep = 3\n",
        "                else:\n",
        "                  time_sleep = 2\n",
        "\n",
        "                time.sleep(2)  # 음성 길이에 따라 조절 가능\n",
        "\n",
        "                # 파일 삭제\n",
        "                os.remove(audio_file)\n",
        "\n",
        "                if index > 10 :\n",
        "                    break\n",
        "\n",
        "# 텍스트 파일 경로를 지정하세요.\n",
        "text_to_speech_from_file('사건의지평선.txt')\n"
      ],
      "metadata": {
        "id": "VdNYWRldOWow",
        "colab": {
          "base_uri": "https://localhost:8080/",
          "height": 697
        },
        "outputId": "54ef69fa-a56c-466b-af21-4dce1eccaba6"
      },
      "execution_count": null,
      "outputs": [
        {
          "output_type": "display_data",
          "data": {
            "text/plain": [
              "<IPython.lib.display.Audio object>"
            ],
            "text/html": [
              "\n",
              "                <audio  controls=\"controls\" autoplay=\"autoplay\">\n",
              "                    <source src=\"data:audio/mpeg;base64,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\" type=\"audio/mpeg\" />\n",
              "                    Your browser does not support the audio element.\n",
              "                </audio>\n",
              "              "
            ]
          },
          "metadata": {}
        },
        {
          "output_type": "display_data",
          "data": {
            "text/plain": [
              "<IPython.lib.display.Audio object>"
            ],
            "text/html": [
              "\n",
              "                <audio  controls=\"controls\" autoplay=\"autoplay\">\n",
              "                    <source src=\"data:audio/mpeg;base64,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\" type=\"audio/mpeg\" />\n",
              "                    Your browser does not support the audio element.\n",
              "                </audio>\n",
              "              "
            ]
          },
          "metadata": {}
        },
        {
          "output_type": "display_data",
          "data": {
            "text/plain": [
              "<IPython.lib.display.Audio object>"
            ],
            "text/html": [
              "\n",
              "                <audio  controls=\"controls\" autoplay=\"autoplay\">\n",
              "                    <source src=\"data:audio/mpeg;base64,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\" type=\"audio/mpeg\" />\n",
              "                    Your browser does not support the audio element.\n",
              "                </audio>\n",
              "              "
            ]
          },
          "metadata": {}
        },
        {
          "output_type": "display_data",
          "data": {
            "text/plain": [
              "<IPython.lib.display.Audio object>"
            ],
            "text/html": [
              "\n",
              "                <audio  controls=\"controls\" autoplay=\"autoplay\">\n",
              "                    <source src=\"data:audio/mpeg;base64,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\" type=\"audio/mpeg\" />\n",
              "                    Your browser does not support the audio element.\n",
              "                </audio>\n",
              "              "
            ]
          },
          "metadata": {}
        },
        {
          "output_type": "display_data",
          "data": {
            "text/plain": [
              "<IPython.lib.display.Audio object>"
            ],
            "text/html": [
              "\n",
              "                <audio  controls=\"controls\" autoplay=\"autoplay\">\n",
              "                    <source src=\"data:audio/mpeg;base64,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\" type=\"audio/mpeg\" />\n",
              "                    Your browser does not support the audio element.\n",
              "                </audio>\n",
              "              "
            ]
          },
          "metadata": {}
        },
        {
          "output_type": "display_data",
          "data": {
            "text/plain": [
              "<IPython.lib.display.Audio object>"
            ],
            "text/html": [
              "\n",
              "                <audio  controls=\"controls\" autoplay=\"autoplay\">\n",
              "                    <source src=\"data:audio/mpeg;base64,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\" type=\"audio/mpeg\" />\n",
              "                    Your browser does not support the audio element.\n",
              "                </audio>\n",
              "              "
            ]
          },
          "metadata": {}
        },
        {
          "output_type": "display_data",
          "data": {
            "text/plain": [
              "<IPython.lib.display.Audio object>"
            ],
            "text/html": [
              "\n",
              "                <audio  controls=\"controls\" autoplay=\"autoplay\">\n",
              "                    <source src=\"data:audio/mpeg;base64,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\" type=\"audio/mpeg\" />\n",
              "                    Your browser does not support the audio element.\n",
              "                </audio>\n",
              "              "
            ]
          },
          "metadata": {}
        },
        {
          "output_type": "display_data",
          "data": {
            "text/plain": [
              "<IPython.lib.display.Audio object>"
            ],
            "text/html": [
              "\n",
              "                <audio  controls=\"controls\" autoplay=\"autoplay\">\n",
              "                    <source src=\"data:audio/mpeg;base64,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\" type=\"audio/mpeg\" />\n",
              "                    Your browser does not support the audio element.\n",
              "                </audio>\n",
              "              "
            ]
          },
          "metadata": {}
        },
        {
          "output_type": "display_data",
          "data": {
            "text/plain": [
              "<IPython.lib.display.Audio object>"
            ],
            "text/html": [
              "\n",
              "                <audio  controls=\"controls\" autoplay=\"autoplay\">\n",
              "                    <source src=\"data:audio/mpeg;base64,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\" type=\"audio/mpeg\" />\n",
              "                    Your browser does not support the audio element.\n",
              "                </audio>\n",
              "              "
            ]
          },
          "metadata": {}
        },
        {
          "output_type": "display_data",
          "data": {
            "text/plain": [
              "<IPython.lib.display.Audio object>"
            ],
            "text/html": [
              "\n",
              "                <audio  controls=\"controls\" autoplay=\"autoplay\">\n",
              "                    <source src=\"data:audio/mpeg;base64,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\" type=\"audio/mpeg\" />\n",
              "                    Your browser does not support the audio element.\n",
              "                </audio>\n",
              "              "
            ]
          },
          "metadata": {}
        },
        {
          "output_type": "display_data",
          "data": {
            "text/plain": [
              "<IPython.lib.display.Audio object>"
            ],
            "text/html": [
              "\n",
              "                <audio  controls=\"controls\" autoplay=\"autoplay\">\n",
              "                    <source src=\"data:audio/mpeg;base64,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\" type=\"audio/mpeg\" />\n",
              "                    Your browser does not support the audio element.\n",
              "                </audio>\n",
              "              "
            ]
          },
          "metadata": {}
        },
        {
          "output_type": "display_data",
          "data": {
            "text/plain": [
              "<IPython.lib.display.Audio object>"
            ],
            "text/html": [
              "\n",
              "                <audio  controls=\"controls\" autoplay=\"autoplay\">\n",
              "                    <source src=\"data:audio/mpeg;base64,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\" type=\"audio/mpeg\" />\n",
              "                    Your browser does not support the audio element.\n",
              "                </audio>\n",
              "              "
            ]
          },
          "metadata": {}
        }
      ]
    },
    {
      "cell_type": "markdown",
      "metadata": {
        "id": "3UTLuSAp8GGY"
      },
      "source": [
        "--------"
      ]
    },
    {
      "cell_type": "markdown",
      "metadata": {
        "id": "fmU7O8WS8GGY"
      },
      "source": [
        "### **[연산자]**"
      ]
    },
    {
      "cell_type": "markdown",
      "metadata": {
        "id": "eRCyhgwS8GGY"
      },
      "source": [
        "### 실습문제 :  동전 교환 프로그램\n",
        "동전교환 프로그램을 작성하세요"
      ]
    },
    {
      "cell_type": "code",
      "execution_count": null,
      "metadata": {
        "id": "g8A7ErL78GGY",
        "colab": {
          "base_uri": "https://localhost:8080/"
        },
        "outputId": "0803c4c0-5473-4dc0-fa51-e28acea495b7"
      },
      "outputs": [
        {
          "output_type": "stream",
          "name": "stdout",
          "text": [
            "---동전교환기 프로그램을 작동합니다.---\n",
            "금액을 입력하세요: 4321\n",
            "------------------------------\n",
            "500원짜리 ==> 8개\n",
            "100원짜리 ==> 3개\n",
            "50원짜리 ==> 0개\n",
            "10원짜리 ==> 2개\n",
            "잔돈  ==> 1원\n"
          ]
        }
      ],
      "source": [
        "# 키보드로부터 금액 입력 받기\n",
        "print('---동전교환기 프로그램을 작동합니다.---')\n",
        "money = int( input('금액을 입력하세요: '))\n",
        "print('-'*30)\n",
        "\n",
        "print(f'500원짜리 ==> { money//500}개')\n",
        "money = money%500\n",
        "\n",
        "print(f'100원짜리 ==> { money//100}개')\n",
        "money = money%100\n",
        "\n",
        "print(f'50원짜리 ==> { money//50}개')\n",
        "money = money%50\n",
        "\n",
        "print(f'10원짜리 ==> { money//10}개')\n",
        "money = money%10\n",
        "\n",
        "print(f'잔돈  ==> { money}원')"
      ]
    },
    {
      "cell_type": "code",
      "source": [
        "# 키보드로부터 금액 입력 받기\n",
        "print('---동전교환기 프로그램을 작동합니다.---')\n",
        "money = int( input('금액을 입력하세요: '))\n",
        "print('-'*30)\n",
        "coins = [500, 100, 50, 10]\n",
        "for coin in coins:\n",
        "  print(f'{coin}원짜리 ==> {money//coin}개')\n",
        "  money = money % coin\n",
        "print(f'잔돈    ==> {money}원')\n",
        "\n"
      ],
      "metadata": {
        "colab": {
          "base_uri": "https://localhost:8080/"
        },
        "id": "kiD13PWbj1nh",
        "outputId": "3fca76a9-3736-432b-b395-25f7ae37b1bf"
      },
      "execution_count": null,
      "outputs": [
        {
          "output_type": "stream",
          "name": "stdout",
          "text": [
            "---동전교환기 프로그램을 작동합니다.---\n",
            "금액을 입력하세요: 4321\n",
            "------------------------------\n",
            "500원짜리 ==> 8개\n",
            "100원짜리 ==> 3개\n",
            "50원짜리 ==> 0개\n",
            "10원짜리 ==> 2개\n",
            "잔돈    ==> 1원\n"
          ]
        }
      ]
    },
    {
      "cell_type": "markdown",
      "source": [],
      "metadata": {
        "id": "7TMLpOITjeFW"
      }
    },
    {
      "cell_type": "markdown",
      "source": [
        "### 실습문제 : 비교 연산자를 이용한 상품 필터링하기\n",
        "아래 상품 딕셔너리에서 가격이 1000 이하인 상품을 필터링하고 상품과 해당 가격을 출력하시오."
      ],
      "metadata": {
        "id": "7GL-zafcQwDq"
      }
    },
    {
      "cell_type": "code",
      "source": [
        "# 상품 가격을 가진 사전\n",
        "products = { \"apple\": 1000, \"banana\": 800, \"cherry\": 1500,\n",
        "            \"date\": 1200, \"elderberry\": 2000 }\n",
        "\n",
        "# 가격이 1000 이하인 상품 필터링\n",
        "for key, value in products.itelms()\n",
        "\n",
        "\n"
      ],
      "metadata": {
        "id": "78IAx7VkQwW_"
      },
      "execution_count": null,
      "outputs": []
    },
    {
      "cell_type": "code",
      "source": [
        "# 상품 가격을 가진 사전\n",
        "products = { \"apple\": 1000, \"banana\": 800, \"cherry\": 1500,\n",
        "            \"date\": 1200, \"elderberry\": 2000 }\n",
        "\n",
        "# 가격이 1000 이하인 상품 필터링\n",
        "print('가격이 1000 이하인 상품 필터링')\n",
        "print('-' * 30)\n",
        "for key, value in products.items():\n",
        "    if value <= 1000:\n",
        "        print(f'상품명: {key}  가격:{value}')"
      ],
      "metadata": {
        "id": "HnJpuxeJsX61"
      },
      "execution_count": null,
      "outputs": []
    },
    {
      "cell_type": "markdown",
      "metadata": {
        "id": "0SWp1LN08GGY"
      },
      "source": [
        "------"
      ]
    },
    {
      "cell_type": "markdown",
      "metadata": {
        "id": "x4FIhV_y8GGZ"
      },
      "source": [
        "## 3.조건문과 반목문으로 흐름 제어하기"
      ]
    },
    {
      "cell_type": "markdown",
      "metadata": {
        "id": "LPe_skHf8GGZ"
      },
      "source": [
        "### **[조건문]**"
      ]
    },
    {
      "cell_type": "markdown",
      "source": [
        "#### 조건문 구조 4개"
      ],
      "metadata": {
        "id": "HIFAD_kqX1uL"
      }
    },
    {
      "cell_type": "code",
      "source": [
        "# 조건식1: if 조건식\n",
        "a = 99\n",
        "if a < 100 :\n",
        "    print('a는 100보다 작군요')"
      ],
      "metadata": {
        "id": "d9jDMOjbX4hu"
      },
      "execution_count": null,
      "outputs": []
    },
    {
      "cell_type": "code",
      "source": [
        "# 조건식2: if ~ else\n",
        "a = 200\n",
        "if a > 100:\n",
        "    print('a는 100보다 크군요')\n",
        "else:\n",
        "    print('a는 100보다 크지 않군요')"
      ],
      "metadata": {
        "id": "9ehdd_YIYEus"
      },
      "execution_count": null,
      "outputs": []
    },
    {
      "cell_type": "code",
      "source": [
        "# 조건문3: 중첩 if - 조건문 안에 조건문\n",
        "a = 200\n",
        "if a > 100:\n",
        "    if a > 200 :\n",
        "        print('a는 200보다 크군요')\n",
        "    else:\n",
        "        print('a는 200보다 크거나 같군요')\n",
        "else:\n",
        "    print('a는 100보다 크지 않군요')"
      ],
      "metadata": {
        "id": "nOi_cwzoYE2u"
      },
      "execution_count": null,
      "outputs": []
    },
    {
      "cell_type": "code",
      "source": [
        "# 조건문4: 다중 조건문\n",
        "pocket = ['paper', 'handphone']\n",
        "card = True\n",
        "\n",
        "if 'money' in pocket:\n",
        "    print('택시를 타고 가라')\n",
        "elif card:\n",
        "    print('택시를 타고 가라')\n",
        "else:\n",
        "    print('걸어가라')"
      ],
      "metadata": {
        "id": "T_P0EQFeYFBE"
      },
      "execution_count": null,
      "outputs": []
    },
    {
      "cell_type": "markdown",
      "metadata": {
        "id": "Io13oQKLhgph"
      },
      "source": [
        "#### 조건부 표현식"
      ]
    },
    {
      "cell_type": "code",
      "execution_count": null,
      "metadata": {
        "id": "h0V6WqWchnTA"
      },
      "outputs": [],
      "source": [
        "score = int(input('점수를 입력하세요: '))\n",
        "message = \"success!\" if score >=60 else \"failure!\"\n",
        "print(message)"
      ]
    },
    {
      "cell_type": "markdown",
      "metadata": {
        "id": "Ar6JKwtB8GGZ"
      },
      "source": [
        "#### 실습문제 : 짝수 홀수 판별하기\n",
        "숫자를 입력 받아 짝수/홀수를 판별하는 코드를 만들어 보세요."
      ]
    },
    {
      "cell_type": "code",
      "execution_count": null,
      "metadata": {
        "id": "09w2BCcN8GGZ",
        "colab": {
          "base_uri": "https://localhost:8080/"
        },
        "outputId": "71a2caad-ae3d-4134-c75b-7113cfab285c"
      },
      "outputs": [
        {
          "output_type": "stream",
          "name": "stdout",
          "text": [
            "숫자를 입력해 주세요: 5\n",
            "홀수입니다\n"
          ]
        }
      ],
      "source": [
        "x = int(input('숫자를 입력해 주세요: '))\n",
        "\n",
        "if x%2 == 0:\n",
        "  print('짝수입니다')\n",
        "else:\n",
        "  print('홀수입니다')\n",
        "\n"
      ]
    },
    {
      "cell_type": "code",
      "source": [
        "x = int(input('숫자를 입력해 주세요: '))\n",
        "\n",
        "print('짝수') if x % 2 ==0  else print('홀수')\n"
      ],
      "metadata": {
        "colab": {
          "base_uri": "https://localhost:8080/"
        },
        "id": "Gj-5fz9AqwTN",
        "outputId": "dbe27435-1cd8-4a46-e2f4-ad2d1c72606d"
      },
      "execution_count": null,
      "outputs": [
        {
          "output_type": "stream",
          "name": "stdout",
          "text": [
            "숫자를 입력해 주세요: 5\n",
            "홀수\n"
          ]
        }
      ]
    },
    {
      "cell_type": "markdown",
      "metadata": {
        "id": "3SDdg7Aeg7MW"
      },
      "source": [
        "### 실습문제 : 커피 자판기 조건문\n",
        "아래 조건을 만족하는 커피 자동주문 머신을 만들어보세요.<br><br>\n",
        "[커피 자동주문 머신]<br>\n",
        "친구들과 현금 커피 자동주문 머신 앞에서\n",
        " - 아메리카노 2잔과 카페라테 2잔 카푸치노 1잔을 주문하였다.\n",
        " - 아메리카노 한잔에 2500원이고\n",
        " - 카페라테는 한잔에 3000원\n",
        " - 카푸치노는 한잔에 3000원이다.\n",
        "커피 종류와 잔 수를 결정한 후 현금 15000원을 투입하고 잔돈을 1000원 받았다."
      ]
    },
    {
      "cell_type": "code",
      "execution_count": null,
      "metadata": {
        "id": "BZlOMJHKg7dN"
      },
      "outputs": [],
      "source": [
        "menu = '''[커피 자동주문 머신 메뉴]\n",
        "------------------------------\n",
        "-아메리카노는 2500원\n",
        "-카레라떼는 3000원\n",
        "-카푸치노는 3000원\n",
        "입니다. 원하시는 커피종류와 잔수를 입력하세요.\n",
        "------------------------------'''\n",
        "print(menu)\n",
        "coffee1 = int(input(\"아메리카노 몇잔?\"))\n",
        "coffee2 = int(input(\"카페라떼 몇잔?\"))\n",
        "coffee3 = int(input(\"카푸치노 몇잔?\"))\n",
        "\n"
      ]
    },
    {
      "cell_type": "code",
      "source": [
        "menu = '''[커피 자동주문 머신 메뉴]\n",
        "------------------------------\n",
        "-아메리카노는 2500원\n",
        "-카레라떼는 3000원\n",
        "-카푸치노는 3000원\n",
        "입니다. 원하시는 커피종류와 잔수를 입력하세요.\n",
        "------------------------------'''\n",
        "print(menu)\n",
        "coffee1 = int(input(\"아메리카노 몇잔?\"))\n",
        "coffee2 = int(input(\"카페라떼 몇잔?\"))\n",
        "coffee3 = int(input(\"카푸치노 몇잔?\"))\n",
        "\n",
        "sum =  coffee1*2500 + coffee2*3000 + coffee3*3000\n",
        "\n",
        "print(\"주문 금액은\", sum, \"원 입니다.\" )\n",
        "\n",
        "money = int(input(\"투입한 금액 얼마 ?\"))\n",
        "\n",
        "if money >= sum :\n",
        "    print(\"잔돈은 :\", money-sum, \"원 입니다.\")\n",
        "else :\n",
        "    print(sum-money,\"원을 더 투입하세요.\")"
      ],
      "metadata": {
        "id": "nK0CnKp3uGUf"
      },
      "execution_count": null,
      "outputs": []
    },
    {
      "cell_type": "markdown",
      "metadata": {
        "id": "4RoolGBF8GGa"
      },
      "source": [
        "------"
      ]
    },
    {
      "cell_type": "markdown",
      "metadata": {
        "id": "G2T6Nybt8GGa"
      },
      "source": [
        "### **[반복문]**"
      ]
    },
    {
      "cell_type": "markdown",
      "metadata": {
        "id": "HuWJNA-T8GGa"
      },
      "source": [
        "### 실습문제 : 1~N까지 합계 구하기\n",
        "숫자를 입력받아 1~n까지의 합을 구할 때 짝수를 제외하고 합을 구하는 프로그램을 만들어 보세요."
      ]
    },
    {
      "cell_type": "code",
      "execution_count": null,
      "metadata": {
        "id": "t4NbQOOe8GGa"
      },
      "outputs": [],
      "source": [
        "n = int(input('합계를 구할 숫자 입력:'))\n",
        "hap = 0\n",
        "\n",
        "\n"
      ]
    },
    {
      "cell_type": "markdown",
      "metadata": {
        "id": "p7P0Vy-XjIBz"
      },
      "source": [
        "### 실습문제 : 나무 열 번 찍어 넘기기"
      ]
    },
    {
      "cell_type": "code",
      "execution_count": null,
      "metadata": {
        "id": "A1OSHn1tjNE5"
      },
      "outputs": [],
      "source": [
        "treeHit = 0\n",
        "\n"
      ]
    },
    {
      "cell_type": "markdown",
      "metadata": {
        "id": "iPCnjI9UkoHr"
      },
      "source": [
        "### 실습문제 :  커피 자동주문 프로그램 업그레이드\n",
        "앞에서 만들어 본 커피 자동주문 머신 프로그램을 while문을 이용하여 돈을 모두 지불할 때까지 돈을 입력 받도록 프로그램 기능 수정하기"
      ]
    },
    {
      "cell_type": "code",
      "execution_count": null,
      "metadata": {
        "id": "HtKho6P3kxtS"
      },
      "outputs": [],
      "source": [
        "menu = '''[커피 자동주문 머신 메뉴]\n",
        "------------------------------\n",
        "-아메리카노는 2500원\n",
        "-카레라떼는 3000원\n",
        "-카푸치노는 3000원\n",
        "입니다. 원하시는 커피종류와 잔수를 입력하세요.\n",
        "------------------------------'''\n",
        "print(menu)\n",
        "coffee1 = int(input(\"아메리카노 몇잔?\"))\n",
        "coffee2 = int(input(\"카페라떼 몇잔?\"))\n",
        "coffee3 = int(input(\"카푸치노 몇잔?\"))\n",
        "\n"
      ]
    },
    {
      "cell_type": "markdown",
      "metadata": {
        "id": "bBpYo7he8GGc"
      },
      "source": [
        "### 실습문제 : 도둑잡기 게임 만들기\n",
        "경찰에 쫓기던 범인이 3개의 방 중에 한 곳에 숨어버렸습니다. 범인은 방문을 열 때마다 무작위로 3개의 방 중 하나의 방으로 이동합니다. 3개의 방 중 하나의 방을 선택했을 때 범인이 있다면 100점, 없을 때 -10점을 부여하고 범인을 잡으면 게임을 종료하는 프로그램을 만들어 보세요."
      ]
    },
    {
      "cell_type": "code",
      "execution_count": null,
      "metadata": {
        "id": "Yjs0Tp0m8GGc"
      },
      "outputs": [],
      "source": [
        "import random\n",
        "score = 0\n",
        "\n",
        "while True:  # 무한반복\n",
        "    # 1.무작위로 범인 방 배치\n",
        "\n",
        "\n",
        "\n",
        "    # 2.사용자로부터 방 번호 입력 받기\n",
        "    n = int(input('방 번호를 입력하세요(1,2,3): '))\n",
        "\n",
        "    # 3.사용자가 입력한 방 번호와 범인이 있는 방 비교\n",
        "    # 4.범인을 찾으면\n",
        "    # 범인 체포“라는 메시지 출력\n",
        "    # 점수 증가\n",
        "    # 무한반복 빠져 나가기\n",
        "\n",
        "    # 5.범인을 찾지 못하면\n",
        "    # “범인을 찾지 못했다“라는 메시지 출력\n",
        "    # 점수 감소\n",
        "\n",
        "# 게임 종료 메시지 출력\n",
        "# 최종 점수 출력"
      ]
    },
    {
      "cell_type": "markdown",
      "metadata": {
        "id": "FTX-Fvb28GGc"
      },
      "source": [
        "------"
      ]
    },
    {
      "cell_type": "markdown",
      "metadata": {
        "id": "8tdBEUuy8GGe"
      },
      "source": [
        "## 4.함수를 이용하여 알고리즘 만들기"
      ]
    },
    {
      "cell_type": "markdown",
      "metadata": {
        "id": "A50BCkk98GGe"
      },
      "source": [
        "### **[함수 & 모듈]**"
      ]
    },
    {
      "cell_type": "code",
      "execution_count": null,
      "metadata": {
        "id": "3gNw75bI8GGe"
      },
      "outputs": [],
      "source": [
        "def nSum(a, b):\n",
        "    c = a + b\n",
        "    return c\n",
        "\n",
        "nSum(50, 3)"
      ]
    },
    {
      "cell_type": "markdown",
      "metadata": {
        "id": "ZH2oJDOzmgta"
      },
      "source": [
        "####  함수의 구조\n",
        "매개변수와 리턴값에 따른 함수의 유형 예"
      ]
    },
    {
      "cell_type": "markdown",
      "metadata": {
        "id": "ZVu_uCmBmwX9"
      },
      "source": [
        "- 매개변수(X), 리턴값(X)"
      ]
    },
    {
      "cell_type": "code",
      "execution_count": null,
      "metadata": {
        "id": "PhoFdGdpmg2i"
      },
      "outputs": [],
      "source": [
        "def func():\n",
        "    print('안녕하세요!')\n",
        "\n",
        "print( func() )"
      ]
    },
    {
      "cell_type": "markdown",
      "metadata": {
        "id": "rYJvu1mKm1lA"
      },
      "source": [
        "- 매개변수(X), 리턴값(O)"
      ]
    },
    {
      "cell_type": "code",
      "execution_count": null,
      "metadata": {
        "id": "RtmltcdOm1sg"
      },
      "outputs": [],
      "source": [
        "def func():\n",
        "    print('안녕하세요!')\n",
        "    return '처리완료!'\n",
        "\n",
        "print( func() )"
      ]
    },
    {
      "cell_type": "markdown",
      "metadata": {
        "id": "kAiXc3qom1zq"
      },
      "source": [
        "- 매개변수(O), 리턴값(X)"
      ]
    },
    {
      "cell_type": "code",
      "execution_count": null,
      "metadata": {
        "id": "mdneVBp_m16L"
      },
      "outputs": [],
      "source": [
        "def func(a, b):\n",
        "    print('덧셈: %d + %d = %d' % (a, b, a+b))\n",
        "\n",
        "print( func(5, 7) )"
      ]
    },
    {
      "cell_type": "markdown",
      "metadata": {
        "id": "UWx5mc2Bm2Ah"
      },
      "source": [
        "- 매개변수(O), 리턴값(O)"
      ]
    },
    {
      "cell_type": "code",
      "execution_count": null,
      "metadata": {
        "id": "u40Eqnc1m2IB"
      },
      "outputs": [],
      "source": [
        "def func(a, b):\n",
        "    print('덧셈: %d + %d = %d' % (a, b, a+b))\n",
        "    return a+b\n",
        "\n",
        "print( func(5, 7) )"
      ]
    },
    {
      "cell_type": "markdown",
      "metadata": {
        "id": "Oq6XLdiqm9lV"
      },
      "source": [
        "### 실습문제 : 암스트롱수 판별 함수\n",
        "다음 조건을 참고하여 암스트롱수를 구하는 함수를 만들어 출력하는 프로그램을 만들어 보세요.\n",
        "- **암스트롱수** : 세 자리의 정수 중에서 각 자리의 수를 세 제곱한 수의 합과 자신이 같은 수"
      ]
    },
    {
      "cell_type": "code",
      "execution_count": null,
      "metadata": {
        "id": "DvFLshFqm9t8"
      },
      "outputs": [],
      "source": [
        "def is_armstringNumber(N):\n",
        "\n",
        "\n",
        "\n",
        "\n",
        "for i in range(100, 1000):\n",
        "    if is_armstringNumber(i):\n",
        "        print(\"[%i] is armstrong number\" % i)"
      ]
    },
    {
      "cell_type": "markdown",
      "metadata": {
        "id": "Kvzu_J_a8GGf"
      },
      "source": [
        "### 실습문제 : 환전 계산 함수\n",
        "아래 조건을 만족하는 환전계산 함수를 만들어 보세요."
      ]
    },
    {
      "cell_type": "code",
      "execution_count": null,
      "metadata": {
        "id": "x1jdgfzq8GGf",
        "scrolled": true
      },
      "outputs": [],
      "source": [
        "def moneyExchange(m, c):\n",
        "\n",
        "\n",
        "\n",
        "countrys = {'미국':['달러', 1182.5],\n",
        "            '중국':['위안', 169.22],\n",
        "            '유럽':['유로', 1286.74],\n",
        "            '일본':['엔', 1078.14]}\n",
        "money = int(input('환전 금액(원)을 입력하세요: '))\n",
        "country = input('국가를 입력하세요: ')\n",
        "print('-'*30)\n",
        "moneyExchange(money, country)"
      ]
    },
    {
      "cell_type": "markdown",
      "source": [
        "\n",
        "\n",
        "---\n",
        "\n"
      ],
      "metadata": {
        "id": "jcBxboxauPTJ"
      }
    },
    {
      "cell_type": "markdown",
      "metadata": {
        "id": "Ajjvg18_8GGg"
      },
      "source": [
        "### 5.ChatGPT와 페어프로그래밍하기"
      ]
    },
    {
      "cell_type": "markdown",
      "source": [
        "### 실습문제 : 영어 단어장 만들기\n",
        "아래 조건을 만족시키는 <영어단어장 만들기> 프로그램을 만들어 보세요.\n",
        "\n",
        "영단어는 key, 그의 뜻은 value 로 두는 dictionary 를 만드세요.<br>\n",
        "<메뉴>\n",
        " - 1. 단어 등록\n",
        " - 2. 단어 검색\n",
        " - 3. 단어 삭제\n",
        " - 4. 모든 단어 보기\n",
        " - 0. 종료하기\n",
        "\n",
        "1. 단어 등록 <br>\n",
        "    새 영단어와 그의 뜻을 입력 받고 dictionary 에 추가합니다.\n",
        "\n",
        "2. 단어 검색<br>\n",
        "    영단어를 입력 받아 그의 뜻을 출력합니다.<br>\n",
        "    미등록된 단어인 경우 '미등록 단어'를 출력합니다.\n",
        "    \n",
        "3. 단어 삭제<br>\n",
        "    영단어를 입력 받아 단어장에서 해당 단어를 삭제한다.<br>\n",
        "    미등록된 단어인 경우 '미등록 단어'를 출력합니다\n",
        "    \n",
        "4. 모든 단어 보기<br>\n",
        "    현재 등록되어 있는 모든 단어와 뜻을 출력합니다.\n",
        "\n",
        "0. 종료하기"
      ],
      "metadata": {
        "id": "LgP7QlUCtw9A"
      }
    },
    {
      "cell_type": "code",
      "source": [
        "menu = '''---선택메뉴--\n",
        "1. 단어 등록\n",
        "2. 단어 검색\n",
        "3. 단어 삭제\n",
        "4. 모든 단어 보기\n",
        "0. 종료하기\n",
        "------------------------------'''\n",
        "\n",
        "# 빈 딕셔너리를 만든다. (반복문 안에 넣지 않는다!)\n",
        "wordbook = {}\n",
        "\n",
        "def addBook():\n",
        "\n",
        "\n",
        "def searchBook():\n",
        "\n",
        "\n",
        "def deleteBook():\n",
        "\n",
        "\n",
        "def showAllBook():\n",
        "\n",
        "\n"
      ],
      "metadata": {
        "id": "eZLiY8m-txGd"
      },
      "execution_count": null,
      "outputs": []
    },
    {
      "cell_type": "markdown",
      "metadata": {
        "id": "SD7IuCtyEfxZ"
      },
      "source": [
        "\n",
        "\n",
        "---\n",
        "THE END\n",
        "\n"
      ]
    },
    {
      "cell_type": "markdown",
      "metadata": {
        "id": "RQoDVEJ38GGg"
      },
      "source": [
        "------"
      ]
    }
  ],
  "metadata": {
    "colab": {
      "provenance": [],
      "include_colab_link": true
    },
    "kernelspec": {
      "display_name": "Python 3 (ipykernel)",
      "language": "python",
      "name": "python3"
    },
    "language_info": {
      "codemirror_mode": {
        "name": "ipython",
        "version": 3
      },
      "file_extension": ".py",
      "mimetype": "text/x-python",
      "name": "python",
      "nbconvert_exporter": "python",
      "pygments_lexer": "ipython3",
      "version": "3.10.9"
    }
  },
  "nbformat": 4,
  "nbformat_minor": 0
}